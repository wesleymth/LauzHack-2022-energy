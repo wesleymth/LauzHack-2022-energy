{
 "cells": [
  {
   "cell_type": "markdown",
   "metadata": {},
   "source": [
    "# Generate new data sample by running the following code on your computer"
   ]
  },
  {
   "cell_type": "code",
   "execution_count": null,
   "metadata": {},
   "outputs": [],
   "source": [
    "full_dataset_pipeline()"
   ]
  },
  {
   "cell_type": "code",
   "execution_count": null,
   "metadata": {},
   "outputs": [],
   "source": []
  },
  {
   "cell_type": "markdown",
   "metadata": {},
   "source": [
    "# Train the model to predict the energy consumption given the common dataset"
   ]
  },
  {
   "cell_type": "code",
   "execution_count": 1,
   "metadata": {},
   "outputs": [],
   "source": [
    "from train_model import train_models\n",
    "from data_processing import full_dataset_pipeline, convert_filepaths_to_df\n",
    "from os.path import join"
   ]
  },
  {
   "cell_type": "code",
   "execution_count": 2,
   "metadata": {},
   "outputs": [],
   "source": [
    "files = [\n",
    "    [join(\"data\", \"sub_dataset_energy07-57-54_nico.csv\"), join(\"data\",\"Model_features08-12-18_nico.csv\")],\n",
    "    [join(\"data\", \"sub_dataset_energy07-40-32_guillaume.csv\"), join(\"data\", \"Model_features08-15-31_guillaume.csv\")],\n",
    "    [join(\"data\", \"sub_dataset_energy07-26-12_emma.csv\"), join(\"data\", \"Model_features08-15-31_guillaume.csv\")],\n",
    "    [join(\"data\", \"sub_dataset_energy08-43-15_nico2.csv\"), join(\"data\", \"Model_features09-17-12_nico2.csv\")]\n",
    "]\n",
    "\n",
    "files = convert_filepaths_to_df(files)\n",
    "dataset = full_dataset_pipeline(files)"
   ]
  },
  {
   "cell_type": "code",
   "execution_count": 3,
   "metadata": {},
   "outputs": [
    {
     "data": {
      "text/plain": [
       "(LinearRegression(), GradientBoostingRegressor(random_state=0))"
      ]
     },
     "execution_count": 3,
     "metadata": {},
     "output_type": "execute_result"
    }
   ],
   "source": [
    "train_models(dataset)"
   ]
  },
  {
   "cell_type": "markdown",
   "metadata": {},
   "source": [
    "# Predict the energy consumption of your model fit"
   ]
  },
  {
   "cell_type": "code",
   "execution_count": 4,
   "metadata": {},
   "outputs": [
    {
     "ename": "ImportError",
     "evalue": "cannot import name 'one_hot_encoding_test' from 'train_model' (/Users/emmaboehly/Documents/Master1/LauzHack/LauzHack_energy/train_model.py)",
     "output_type": "error",
     "traceback": [
      "\u001b[0;31m---------------------------------------------------------------------------\u001b[0m",
      "\u001b[0;31mImportError\u001b[0m                               Traceback (most recent call last)",
      "Cell \u001b[0;32mIn[4], line 1\u001b[0m\n\u001b[0;32m----> 1\u001b[0m \u001b[39mfrom\u001b[39;00m \u001b[39mpredictions\u001b[39;00m \u001b[39mimport\u001b[39;00m energy\n\u001b[1;32m      2\u001b[0m \u001b[39mfrom\u001b[39;00m \u001b[39msklearn\u001b[39;00m\u001b[39m.\u001b[39;00m\u001b[39mlinear_model\u001b[39;00m \u001b[39mimport\u001b[39;00m RidgeCV\n\u001b[1;32m      3\u001b[0m \u001b[39mimport\u001b[39;00m \u001b[39mnumpy\u001b[39;00m \u001b[39mas\u001b[39;00m \u001b[39mnp\u001b[39;00m\n",
      "File \u001b[0;32m~/Documents/Master1/LauzHack/LauzHack_energy/predictions.py:4\u001b[0m\n\u001b[1;32m      2\u001b[0m \u001b[39mfrom\u001b[39;00m \u001b[39mjoblib\u001b[39;00m \u001b[39mimport\u001b[39;00m dump, load\n\u001b[1;32m      3\u001b[0m \u001b[39mfrom\u001b[39;00m \u001b[39mdata_processing\u001b[39;00m \u001b[39mimport\u001b[39;00m rename_categorical_cols\n\u001b[0;32m----> 4\u001b[0m \u001b[39mfrom\u001b[39;00m \u001b[39mtrain_model\u001b[39;00m \u001b[39mimport\u001b[39;00m one_hot_encoding_test\n\u001b[1;32m      6\u001b[0m \u001b[39mdef\u001b[39;00m \u001b[39mpredict\u001b[39m(df):\n\u001b[1;32m      7\u001b[0m     model \u001b[39m=\u001b[39m load(\u001b[39m'\u001b[39m\u001b[39mxgboost.joblib\u001b[39m\u001b[39m'\u001b[39m)\n",
      "\u001b[0;31mImportError\u001b[0m: cannot import name 'one_hot_encoding_test' from 'train_model' (/Users/emmaboehly/Documents/Master1/LauzHack/LauzHack_energy/train_model.py)"
     ]
    }
   ],
   "source": [
    "from predictions import energy\n",
    "from sklearn.linear_model import RidgeCV\n",
    "import numpy as np\n",
    "X = np.random.randn(20,50)\n",
    "energy(RidgeCV, X)"
   ]
  },
  {
   "cell_type": "markdown",
   "metadata": {},
   "source": []
  }
 ],
 "metadata": {
  "kernelspec": {
   "display_name": "Python 3.9.15 ('lauzhack')",
   "language": "python",
   "name": "python3"
  },
  "language_info": {
   "codemirror_mode": {
    "name": "ipython",
    "version": 3
   },
   "file_extension": ".py",
   "mimetype": "text/x-python",
   "name": "python",
   "nbconvert_exporter": "python",
   "pygments_lexer": "ipython3",
   "version": "3.9.15"
  },
  "orig_nbformat": 4,
  "vscode": {
   "interpreter": {
    "hash": "c8af34b48f9309cfc0ad5c75488b7486daa892f05147674061377b8472f53449"
   }
  }
 },
 "nbformat": 4,
 "nbformat_minor": 2
}

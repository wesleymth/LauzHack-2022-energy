{
 "cells": [
  {
   "cell_type": "markdown",
   "metadata": {},
   "source": [
    "# Generate new data sample by running the following code on your computer"
   ]
  },
  {
   "cell_type": "code",
   "execution_count": null,
   "metadata": {},
   "outputs": [],
   "source": [
    "import pandas as pd\n",
    "from dataset_generator import dataset_generator\n",
    "from sklearn.compose import make_column_transformer\n",
    "from sklearn.preprocessing import OneHotEncoder"
   ]
  },
  {
   "cell_type": "code",
   "execution_count": 7,
   "metadata": {},
   "outputs": [
    {
     "ename": "NameError",
     "evalue": "name 'dataset_generator' is not defined",
     "output_type": "error",
     "traceback": [
      "\u001b[0;31m---------------------------------------------------------------------------\u001b[0m",
      "\u001b[0;31mNameError\u001b[0m                                 Traceback (most recent call last)",
      "Cell \u001b[0;32mIn[7], line 2\u001b[0m\n\u001b[1;32m      1\u001b[0m \u001b[39m#WARNING : take time to run, fit all the models to update the dataset\u001b[39;00m\n\u001b[0;32m----> 2\u001b[0m data \u001b[39m=\u001b[39m dataset_generator()\n",
      "\u001b[0;31mNameError\u001b[0m: name 'dataset_generator' is not defined"
     ]
    }
   ],
   "source": [
    "#WARNING : take time to run, fit all the models to update the dataset\n",
    "data = dataset_generator()"
   ]
  },
  {
   "cell_type": "markdown",
   "metadata": {},
   "source": [
    "# Train the model to predict the energy consumption given the common dataset"
   ]
  },
  {
   "cell_type": "code",
   "execution_count": 1,
   "metadata": {},
   "outputs": [],
   "source": [
    "from train_model import train_models\n",
    "from data_processing import full_dataset_pipeline, convert_filepaths_to_df\n",
    "from os.path import join"
   ]
  },
  {
   "cell_type": "code",
   "execution_count": 2,
   "metadata": {},
   "outputs": [
    {
     "data": {
      "text/html": [
       "<div>\n",
       "<style scoped>\n",
       "    .dataframe tbody tr th:only-of-type {\n",
       "        vertical-align: middle;\n",
       "    }\n",
       "\n",
       "    .dataframe tbody tr th {\n",
       "        vertical-align: top;\n",
       "    }\n",
       "\n",
       "    .dataframe thead th {\n",
       "        text-align: right;\n",
       "    }\n",
       "</style>\n",
       "<table border=\"1\" class=\"dataframe\">\n",
       "  <thead>\n",
       "    <tr style=\"text-align: right;\">\n",
       "      <th></th>\n",
       "      <th>CPU_count</th>\n",
       "      <th>name_CPU_vendor_id</th>\n",
       "      <th>CPU_GHz</th>\n",
       "      <th>name_core_architecture</th>\n",
       "      <th>name_os</th>\n",
       "      <th>name_model</th>\n",
       "      <th>nb_samples</th>\n",
       "      <th>nb_preds</th>\n",
       "      <th>energy_consumed</th>\n",
       "    </tr>\n",
       "  </thead>\n",
       "  <tbody>\n",
       "    <tr>\n",
       "      <th>0</th>\n",
       "      <td>12</td>\n",
       "      <td>GenuineIntel</td>\n",
       "      <td>2.6</td>\n",
       "      <td>AMD64</td>\n",
       "      <td>Windows</td>\n",
       "      <td>ARDRegression</td>\n",
       "      <td>20</td>\n",
       "      <td>20</td>\n",
       "      <td>8.515489e-07</td>\n",
       "    </tr>\n",
       "    <tr>\n",
       "      <th>1</th>\n",
       "      <td>12</td>\n",
       "      <td>GenuineIntel</td>\n",
       "      <td>2.6</td>\n",
       "      <td>AMD64</td>\n",
       "      <td>Windows</td>\n",
       "      <td>ARDRegression</td>\n",
       "      <td>500</td>\n",
       "      <td>20</td>\n",
       "      <td>3.209248e-07</td>\n",
       "    </tr>\n",
       "    <tr>\n",
       "      <th>2</th>\n",
       "      <td>12</td>\n",
       "      <td>GenuineIntel</td>\n",
       "      <td>2.6</td>\n",
       "      <td>AMD64</td>\n",
       "      <td>Windows</td>\n",
       "      <td>ARDRegression</td>\n",
       "      <td>500</td>\n",
       "      <td>500</td>\n",
       "      <td>1.650893e-05</td>\n",
       "    </tr>\n",
       "    <tr>\n",
       "      <th>3</th>\n",
       "      <td>12</td>\n",
       "      <td>GenuineIntel</td>\n",
       "      <td>2.6</td>\n",
       "      <td>AMD64</td>\n",
       "      <td>Windows</td>\n",
       "      <td>ARDRegression</td>\n",
       "      <td>2000</td>\n",
       "      <td>20</td>\n",
       "      <td>3.669459e-07</td>\n",
       "    </tr>\n",
       "    <tr>\n",
       "      <th>4</th>\n",
       "      <td>12</td>\n",
       "      <td>GenuineIntel</td>\n",
       "      <td>2.6</td>\n",
       "      <td>AMD64</td>\n",
       "      <td>Windows</td>\n",
       "      <td>ARDRegression</td>\n",
       "      <td>2000</td>\n",
       "      <td>500</td>\n",
       "      <td>3.534756e-06</td>\n",
       "    </tr>\n",
       "    <tr>\n",
       "      <th>...</th>\n",
       "      <td>...</td>\n",
       "      <td>...</td>\n",
       "      <td>...</td>\n",
       "      <td>...</td>\n",
       "      <td>...</td>\n",
       "      <td>...</td>\n",
       "      <td>...</td>\n",
       "      <td>...</td>\n",
       "      <td>...</td>\n",
       "    </tr>\n",
       "    <tr>\n",
       "      <th>705</th>\n",
       "      <td>12</td>\n",
       "      <td>GenuineIntel</td>\n",
       "      <td>2.6</td>\n",
       "      <td>AMD64</td>\n",
       "      <td>Windows</td>\n",
       "      <td>TweedieRegressor</td>\n",
       "      <td>500</td>\n",
       "      <td>20</td>\n",
       "      <td>6.640952e-07</td>\n",
       "    </tr>\n",
       "    <tr>\n",
       "      <th>706</th>\n",
       "      <td>12</td>\n",
       "      <td>GenuineIntel</td>\n",
       "      <td>2.6</td>\n",
       "      <td>AMD64</td>\n",
       "      <td>Windows</td>\n",
       "      <td>TweedieRegressor</td>\n",
       "      <td>500</td>\n",
       "      <td>500</td>\n",
       "      <td>6.692532e-07</td>\n",
       "    </tr>\n",
       "    <tr>\n",
       "      <th>707</th>\n",
       "      <td>12</td>\n",
       "      <td>GenuineIntel</td>\n",
       "      <td>2.6</td>\n",
       "      <td>AMD64</td>\n",
       "      <td>Windows</td>\n",
       "      <td>TweedieRegressor</td>\n",
       "      <td>2000</td>\n",
       "      <td>20</td>\n",
       "      <td>6.369508e-07</td>\n",
       "    </tr>\n",
       "    <tr>\n",
       "      <th>708</th>\n",
       "      <td>12</td>\n",
       "      <td>GenuineIntel</td>\n",
       "      <td>2.6</td>\n",
       "      <td>AMD64</td>\n",
       "      <td>Windows</td>\n",
       "      <td>TweedieRegressor</td>\n",
       "      <td>2000</td>\n",
       "      <td>500</td>\n",
       "      <td>6.886727e-07</td>\n",
       "    </tr>\n",
       "    <tr>\n",
       "      <th>709</th>\n",
       "      <td>12</td>\n",
       "      <td>GenuineIntel</td>\n",
       "      <td>2.6</td>\n",
       "      <td>AMD64</td>\n",
       "      <td>Windows</td>\n",
       "      <td>TweedieRegressor</td>\n",
       "      <td>2000</td>\n",
       "      <td>2000</td>\n",
       "      <td>9.219917e-07</td>\n",
       "    </tr>\n",
       "  </tbody>\n",
       "</table>\n",
       "<p>710 rows × 9 columns</p>\n",
       "</div>"
      ],
      "text/plain": [
       "     CPU_count name_CPU_vendor_id  CPU_GHz name_core_architecture  name_os  \\\n",
       "0           12       GenuineIntel      2.6                  AMD64  Windows   \n",
       "1           12       GenuineIntel      2.6                  AMD64  Windows   \n",
       "2           12       GenuineIntel      2.6                  AMD64  Windows   \n",
       "3           12       GenuineIntel      2.6                  AMD64  Windows   \n",
       "4           12       GenuineIntel      2.6                  AMD64  Windows   \n",
       "..         ...                ...      ...                    ...      ...   \n",
       "705         12       GenuineIntel      2.6                  AMD64  Windows   \n",
       "706         12       GenuineIntel      2.6                  AMD64  Windows   \n",
       "707         12       GenuineIntel      2.6                  AMD64  Windows   \n",
       "708         12       GenuineIntel      2.6                  AMD64  Windows   \n",
       "709         12       GenuineIntel      2.6                  AMD64  Windows   \n",
       "\n",
       "           name_model  nb_samples  nb_preds  energy_consumed  \n",
       "0       ARDRegression          20        20     8.515489e-07  \n",
       "1       ARDRegression         500        20     3.209248e-07  \n",
       "2       ARDRegression         500       500     1.650893e-05  \n",
       "3       ARDRegression        2000        20     3.669459e-07  \n",
       "4       ARDRegression        2000       500     3.534756e-06  \n",
       "..                ...         ...       ...              ...  \n",
       "705  TweedieRegressor         500        20     6.640952e-07  \n",
       "706  TweedieRegressor         500       500     6.692532e-07  \n",
       "707  TweedieRegressor        2000        20     6.369508e-07  \n",
       "708  TweedieRegressor        2000       500     6.886727e-07  \n",
       "709  TweedieRegressor        2000      2000     9.219917e-07  \n",
       "\n",
       "[710 rows x 9 columns]"
      ]
     },
     "execution_count": 2,
     "metadata": {},
     "output_type": "execute_result"
    }
   ],
   "source": [
    "files = [\n",
    "    [join(\"data\", \"sub_dataset_energy07-57-54_nico.csv\"), join(\"data\",\"Model_features08-12-18_nico.csv\")],\n",
    "    [join(\"data\", \"sub_dataset_energy07-40-32_guillaume.csv\"), join(\"data\", \"Model_features08-15-31_guillaume.csv\")],\n",
    "    [join(\"data\", \"sub_dataset_energy07-26-12_emma.csv\"), join(\"data\", \"Model_features08-15-31_guillaume.csv\")],\n",
    "    [join(\"data\", \"sub_dataset_energy08-43-15_nico2.csv\"), join(\"data\", \"Model_features09-17-12_nico2.csv\")]\n",
    "]\n",
    "\n",
    "files = convert_filepaths_to_df(files)\n",
    "dataset = full_dataset_pipeline(files)\n",
    "dataset.drop(inplace=True, columns=\"Unnamed: 0\")\n",
    "dataset"
   ]
  },
  {
   "cell_type": "code",
   "execution_count": 3,
   "metadata": {},
   "outputs": [
    {
     "data": {
      "text/plain": [
       "(LinearRegression(), GradientBoostingRegressor(random_state=0))"
      ]
     },
     "execution_count": 3,
     "metadata": {},
     "output_type": "execute_result"
    }
   ],
   "source": [
    "train_models(dataset)"
   ]
  },
  {
   "cell_type": "markdown",
   "metadata": {},
   "source": [
    "# Predict the energy consumption of your model fit"
   ]
  },
  {
   "cell_type": "code",
   "execution_count": 4,
   "metadata": {},
   "outputs": [
    {
     "data": {
      "text/plain": [
       "1.6838393783641549e-07"
      ]
     },
     "execution_count": 4,
     "metadata": {},
     "output_type": "execute_result"
    }
   ],
   "source": [
    "from predictions import energy\n",
    "from sklearn.linear_model import RidgeCV\n",
    "import numpy as np\n",
    "from codecarbon import EmissionsTracker\n",
    "\n",
    "X = np.random.randn(100,50)\n",
    "y = np.random.randn(100)\n",
    "predict = np.exp(energy(RidgeCV, X))[0]\n",
    "predict"
   ]
  },
  {
   "cell_type": "code",
   "execution_count": 5,
   "metadata": {},
   "outputs": [
    {
     "data": {
      "text/plain": [
       "1.749088118766835e-08"
      ]
     },
     "execution_count": 5,
     "metadata": {},
     "output_type": "execute_result"
    }
   ],
   "source": [
    "tracker = EmissionsTracker(log_level = 'error')\n",
    "tracker.start()\n",
    "RidgeCV().fit(X, y)\n",
    "real = tracker.stop()\n",
    "real"
   ]
  },
  {
   "cell_type": "code",
   "execution_count": 6,
   "metadata": {},
   "outputs": [
    {
     "data": {
      "text/plain": [
       "2.2768714544802012e-14"
      ]
     },
     "execution_count": 6,
     "metadata": {},
     "output_type": "execute_result"
    }
   ],
   "source": [
    "from sklearn.metrics import mean_squared_error\n",
    "\n",
    "mean_squared_error([predict], [real])"
   ]
  },
  {
   "cell_type": "code",
   "execution_count": null,
   "metadata": {},
   "outputs": [],
   "source": []
  }
 ],
 "metadata": {
  "kernelspec": {
   "display_name": "Python 3.9.15 ('lauzhack')",
   "language": "python",
   "name": "python3"
  },
  "language_info": {
   "codemirror_mode": {
    "name": "ipython",
    "version": 3
   },
   "file_extension": ".py",
   "mimetype": "text/x-python",
   "name": "python",
   "nbconvert_exporter": "python",
   "pygments_lexer": "ipython3",
   "version": "3.9.15"
  },
  "orig_nbformat": 4,
  "vscode": {
   "interpreter": {
    "hash": "c8af34b48f9309cfc0ad5c75488b7486daa892f05147674061377b8472f53449"
   }
  }
 },
 "nbformat": 4,
 "nbformat_minor": 2
}

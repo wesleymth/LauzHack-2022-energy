{
 "cells": [
  {
   "cell_type": "markdown",
   "metadata": {},
   "source": [
    "# Generate new data sample by running the following code on your computer"
   ]
  },
  {
   "cell_type": "code",
   "execution_count": null,
   "metadata": {},
   "outputs": [],
   "source": [
    "full_dataset_pipeline()"
   ]
  },
  {
   "cell_type": "code",
   "execution_count": null,
   "metadata": {},
   "outputs": [],
   "source": []
  },
  {
   "cell_type": "markdown",
   "metadata": {},
   "source": [
    "# Train the model to predict the energy consumption given the common dataset"
   ]
  },
  {
   "cell_type": "code",
   "execution_count": 1,
   "metadata": {},
   "outputs": [],
   "source": [
    "from train_model import train_models\n",
    "from data_processing import full_dataset_pipeline, convert_filepaths_to_df\n",
    "from os.path import join"
   ]
  },
  {
   "cell_type": "code",
   "execution_count": 2,
   "metadata": {},
   "outputs": [
    {
     "data": {
      "text/html": [
       "<div>\n",
       "<style scoped>\n",
       "    .dataframe tbody tr th:only-of-type {\n",
       "        vertical-align: middle;\n",
       "    }\n",
       "\n",
       "    .dataframe tbody tr th {\n",
       "        vertical-align: top;\n",
       "    }\n",
       "\n",
       "    .dataframe thead th {\n",
       "        text-align: right;\n",
       "    }\n",
       "</style>\n",
       "<table border=\"1\" class=\"dataframe\">\n",
       "  <thead>\n",
       "    <tr style=\"text-align: right;\">\n",
       "      <th></th>\n",
       "      <th>CPU_count</th>\n",
       "      <th>name_CPU_vendor_id</th>\n",
       "      <th>CPU_GHz</th>\n",
       "      <th>name_core_architecture</th>\n",
       "      <th>name_os</th>\n",
       "      <th>name_model</th>\n",
       "      <th>nb_samples</th>\n",
       "      <th>nb_preds</th>\n",
       "      <th>energy_consumed</th>\n",
       "    </tr>\n",
       "  </thead>\n",
       "  <tbody>\n",
       "    <tr>\n",
       "      <th>0</th>\n",
       "      <td>12</td>\n",
       "      <td>GenuineIntel</td>\n",
       "      <td>2.6</td>\n",
       "      <td>AMD64</td>\n",
       "      <td>Windows</td>\n",
       "      <td>ARDRegression</td>\n",
       "      <td>20</td>\n",
       "      <td>20</td>\n",
       "      <td>8.515489e-07</td>\n",
       "    </tr>\n",
       "    <tr>\n",
       "      <th>1</th>\n",
       "      <td>12</td>\n",
       "      <td>GenuineIntel</td>\n",
       "      <td>2.6</td>\n",
       "      <td>AMD64</td>\n",
       "      <td>Windows</td>\n",
       "      <td>ARDRegression</td>\n",
       "      <td>500</td>\n",
       "      <td>20</td>\n",
       "      <td>3.209248e-07</td>\n",
       "    </tr>\n",
       "    <tr>\n",
       "      <th>2</th>\n",
       "      <td>12</td>\n",
       "      <td>GenuineIntel</td>\n",
       "      <td>2.6</td>\n",
       "      <td>AMD64</td>\n",
       "      <td>Windows</td>\n",
       "      <td>ARDRegression</td>\n",
       "      <td>500</td>\n",
       "      <td>500</td>\n",
       "      <td>1.650893e-05</td>\n",
       "    </tr>\n",
       "    <tr>\n",
       "      <th>3</th>\n",
       "      <td>12</td>\n",
       "      <td>GenuineIntel</td>\n",
       "      <td>2.6</td>\n",
       "      <td>AMD64</td>\n",
       "      <td>Windows</td>\n",
       "      <td>ARDRegression</td>\n",
       "      <td>2000</td>\n",
       "      <td>20</td>\n",
       "      <td>3.669459e-07</td>\n",
       "    </tr>\n",
       "    <tr>\n",
       "      <th>4</th>\n",
       "      <td>12</td>\n",
       "      <td>GenuineIntel</td>\n",
       "      <td>2.6</td>\n",
       "      <td>AMD64</td>\n",
       "      <td>Windows</td>\n",
       "      <td>ARDRegression</td>\n",
       "      <td>2000</td>\n",
       "      <td>500</td>\n",
       "      <td>3.534756e-06</td>\n",
       "    </tr>\n",
       "    <tr>\n",
       "      <th>...</th>\n",
       "      <td>...</td>\n",
       "      <td>...</td>\n",
       "      <td>...</td>\n",
       "      <td>...</td>\n",
       "      <td>...</td>\n",
       "      <td>...</td>\n",
       "      <td>...</td>\n",
       "      <td>...</td>\n",
       "      <td>...</td>\n",
       "    </tr>\n",
       "    <tr>\n",
       "      <th>705</th>\n",
       "      <td>12</td>\n",
       "      <td>GenuineIntel</td>\n",
       "      <td>2.6</td>\n",
       "      <td>AMD64</td>\n",
       "      <td>Windows</td>\n",
       "      <td>TweedieRegressor</td>\n",
       "      <td>500</td>\n",
       "      <td>20</td>\n",
       "      <td>6.640952e-07</td>\n",
       "    </tr>\n",
       "    <tr>\n",
       "      <th>706</th>\n",
       "      <td>12</td>\n",
       "      <td>GenuineIntel</td>\n",
       "      <td>2.6</td>\n",
       "      <td>AMD64</td>\n",
       "      <td>Windows</td>\n",
       "      <td>TweedieRegressor</td>\n",
       "      <td>500</td>\n",
       "      <td>500</td>\n",
       "      <td>6.692532e-07</td>\n",
       "    </tr>\n",
       "    <tr>\n",
       "      <th>707</th>\n",
       "      <td>12</td>\n",
       "      <td>GenuineIntel</td>\n",
       "      <td>2.6</td>\n",
       "      <td>AMD64</td>\n",
       "      <td>Windows</td>\n",
       "      <td>TweedieRegressor</td>\n",
       "      <td>2000</td>\n",
       "      <td>20</td>\n",
       "      <td>6.369508e-07</td>\n",
       "    </tr>\n",
       "    <tr>\n",
       "      <th>708</th>\n",
       "      <td>12</td>\n",
       "      <td>GenuineIntel</td>\n",
       "      <td>2.6</td>\n",
       "      <td>AMD64</td>\n",
       "      <td>Windows</td>\n",
       "      <td>TweedieRegressor</td>\n",
       "      <td>2000</td>\n",
       "      <td>500</td>\n",
       "      <td>6.886727e-07</td>\n",
       "    </tr>\n",
       "    <tr>\n",
       "      <th>709</th>\n",
       "      <td>12</td>\n",
       "      <td>GenuineIntel</td>\n",
       "      <td>2.6</td>\n",
       "      <td>AMD64</td>\n",
       "      <td>Windows</td>\n",
       "      <td>TweedieRegressor</td>\n",
       "      <td>2000</td>\n",
       "      <td>2000</td>\n",
       "      <td>9.219917e-07</td>\n",
       "    </tr>\n",
       "  </tbody>\n",
       "</table>\n",
       "<p>710 rows × 9 columns</p>\n",
       "</div>"
      ],
      "text/plain": [
       "     CPU_count name_CPU_vendor_id  CPU_GHz name_core_architecture  name_os  \\\n",
       "0           12       GenuineIntel      2.6                  AMD64  Windows   \n",
       "1           12       GenuineIntel      2.6                  AMD64  Windows   \n",
       "2           12       GenuineIntel      2.6                  AMD64  Windows   \n",
       "3           12       GenuineIntel      2.6                  AMD64  Windows   \n",
       "4           12       GenuineIntel      2.6                  AMD64  Windows   \n",
       "..         ...                ...      ...                    ...      ...   \n",
       "705         12       GenuineIntel      2.6                  AMD64  Windows   \n",
       "706         12       GenuineIntel      2.6                  AMD64  Windows   \n",
       "707         12       GenuineIntel      2.6                  AMD64  Windows   \n",
       "708         12       GenuineIntel      2.6                  AMD64  Windows   \n",
       "709         12       GenuineIntel      2.6                  AMD64  Windows   \n",
       "\n",
       "           name_model  nb_samples  nb_preds  energy_consumed  \n",
       "0       ARDRegression          20        20     8.515489e-07  \n",
       "1       ARDRegression         500        20     3.209248e-07  \n",
       "2       ARDRegression         500       500     1.650893e-05  \n",
       "3       ARDRegression        2000        20     3.669459e-07  \n",
       "4       ARDRegression        2000       500     3.534756e-06  \n",
       "..                ...         ...       ...              ...  \n",
       "705  TweedieRegressor         500        20     6.640952e-07  \n",
       "706  TweedieRegressor         500       500     6.692532e-07  \n",
       "707  TweedieRegressor        2000        20     6.369508e-07  \n",
       "708  TweedieRegressor        2000       500     6.886727e-07  \n",
       "709  TweedieRegressor        2000      2000     9.219917e-07  \n",
       "\n",
       "[710 rows x 9 columns]"
      ]
     },
     "execution_count": 2,
     "metadata": {},
     "output_type": "execute_result"
    }
   ],
   "source": [
    "files = [\n",
    "    [join(\"data\", \"sub_dataset_energy07-57-54_nico.csv\"), join(\"data\",\"Model_features08-12-18_nico.csv\")],\n",
    "    [join(\"data\", \"sub_dataset_energy07-40-32_guillaume.csv\"), join(\"data\", \"Model_features08-15-31_guillaume.csv\")],\n",
    "    [join(\"data\", \"sub_dataset_energy07-26-12_emma.csv\"), join(\"data\", \"Model_features08-15-31_guillaume.csv\")],\n",
    "    [join(\"data\", \"sub_dataset_energy08-43-15_nico2.csv\"), join(\"data\", \"Model_features09-17-12_nico2.csv\")]\n",
    "]\n",
    "\n",
    "files = convert_filepaths_to_df(files)\n",
    "dataset = full_dataset_pipeline(files)\n",
    "dataset.drop(inplace=True, columns=\"Unnamed: 0\")\n",
    "dataset"
   ]
  },
  {
   "cell_type": "code",
   "execution_count": 3,
   "metadata": {},
   "outputs": [
    {
     "data": {
      "text/plain": [
       "(LinearRegression(), GradientBoostingRegressor(random_state=0))"
      ]
     },
     "execution_count": 3,
     "metadata": {},
     "output_type": "execute_result"
    }
   ],
   "source": [
    "train_models(dataset)"
   ]
  },
  {
   "cell_type": "markdown",
   "metadata": {},
   "source": [
    "# Predict the energy consumption of your model fit"
   ]
  },
  {
   "cell_type": "code",
   "execution_count": 4,
   "metadata": {},
   "outputs": [
    {
     "name": "stdout",
     "output_type": "stream",
     "text": [
      "[[ 4.   2.9 20.  50. ]]\n"
     ]
    },
    {
     "name": "stderr",
     "output_type": "stream",
     "text": [
      "/Users/emmaboehly/programmation/anaconda3/envs/lauzhack/lib/python3.9/site-packages/sklearn/base.py:493: FutureWarning: The feature names should match those that were passed during fit. Starting version 1.2, an error will be raised.\n",
      "Feature names seen at fit time, yet now missing:\n",
      "- onehotencoder__Unnamed: 0_1\n",
      "- onehotencoder__Unnamed: 0_10\n",
      "- onehotencoder__Unnamed: 0_100\n",
      "- onehotencoder__Unnamed: 0_101\n",
      "- onehotencoder__Unnamed: 0_102\n",
      "- ...\n",
      "\n",
      "  warnings.warn(message, FutureWarning)\n"
     ]
    },
    {
     "ename": "ValueError",
     "evalue": "X has 4 features, but GradientBoostingRegressor is expecting 214 features as input.",
     "output_type": "error",
     "traceback": [
      "\u001b[0;31m---------------------------------------------------------------------------\u001b[0m",
      "\u001b[0;31mValueError\u001b[0m                                Traceback (most recent call last)",
      "Cell \u001b[0;32mIn[4], line 5\u001b[0m\n\u001b[1;32m      3\u001b[0m \u001b[39mimport\u001b[39;00m \u001b[39mnumpy\u001b[39;00m \u001b[39mas\u001b[39;00m \u001b[39mnp\u001b[39;00m\n\u001b[1;32m      4\u001b[0m X \u001b[39m=\u001b[39m np\u001b[39m.\u001b[39mrandom\u001b[39m.\u001b[39mrandn(\u001b[39m20\u001b[39m,\u001b[39m50\u001b[39m)\n\u001b[0;32m----> 5\u001b[0m energy(RidgeCV, X)\n",
      "File \u001b[0;32m~/Documents/Master1/LauzHack/LauzHack_energy/predictions.py:23\u001b[0m, in \u001b[0;36menergy\u001b[0;34m(model, X)\u001b[0m\n\u001b[1;32m     21\u001b[0m one_hot_df \u001b[39m=\u001b[39m pd\u001b[39m.\u001b[39mDataFrame(transformed, columns\u001b[39m=\u001b[39monehot\u001b[39m.\u001b[39mget_feature_names_out())\n\u001b[1;32m     22\u001b[0m \u001b[39mprint\u001b[39m(transformed)\n\u001b[0;32m---> 23\u001b[0m \u001b[39mreturn\u001b[39;00m predict(one_hot_df)\n",
      "File \u001b[0;32m~/Documents/Master1/LauzHack/LauzHack_energy/predictions.py:8\u001b[0m, in \u001b[0;36mpredict\u001b[0;34m(df)\u001b[0m\n\u001b[1;32m      6\u001b[0m \u001b[39mdef\u001b[39;00m \u001b[39mpredict\u001b[39m(df):\n\u001b[1;32m      7\u001b[0m     model \u001b[39m=\u001b[39m load(\u001b[39m'\u001b[39m\u001b[39mxgboost.joblib\u001b[39m\u001b[39m'\u001b[39m)\n\u001b[0;32m----> 8\u001b[0m     \u001b[39mreturn\u001b[39;00m model\u001b[39m.\u001b[39;49mpredict(df)\n",
      "File \u001b[0;32m~/programmation/anaconda3/envs/lauzhack/lib/python3.9/site-packages/sklearn/ensemble/_gb.py:1963\u001b[0m, in \u001b[0;36mGradientBoostingRegressor.predict\u001b[0;34m(self, X)\u001b[0m\n\u001b[1;32m   1948\u001b[0m \u001b[39mdef\u001b[39;00m \u001b[39mpredict\u001b[39m(\u001b[39mself\u001b[39m, X):\n\u001b[1;32m   1949\u001b[0m     \u001b[39m\"\"\"Predict regression target for X.\u001b[39;00m\n\u001b[1;32m   1950\u001b[0m \n\u001b[1;32m   1951\u001b[0m \u001b[39m    Parameters\u001b[39;00m\n\u001b[0;32m   (...)\u001b[0m\n\u001b[1;32m   1961\u001b[0m \u001b[39m        The predicted values.\u001b[39;00m\n\u001b[1;32m   1962\u001b[0m \u001b[39m    \"\"\"\u001b[39;00m\n\u001b[0;32m-> 1963\u001b[0m     X \u001b[39m=\u001b[39m \u001b[39mself\u001b[39;49m\u001b[39m.\u001b[39;49m_validate_data(\n\u001b[1;32m   1964\u001b[0m         X, dtype\u001b[39m=\u001b[39;49mDTYPE, order\u001b[39m=\u001b[39;49m\u001b[39m\"\u001b[39;49m\u001b[39mC\u001b[39;49m\u001b[39m\"\u001b[39;49m, accept_sparse\u001b[39m=\u001b[39;49m\u001b[39m\"\u001b[39;49m\u001b[39mcsr\u001b[39;49m\u001b[39m\"\u001b[39;49m, reset\u001b[39m=\u001b[39;49m\u001b[39mFalse\u001b[39;49;00m\n\u001b[1;32m   1965\u001b[0m     )\n\u001b[1;32m   1966\u001b[0m     \u001b[39m# In regression we can directly return the raw value from the trees.\u001b[39;00m\n\u001b[1;32m   1967\u001b[0m     \u001b[39mreturn\u001b[39;00m \u001b[39mself\u001b[39m\u001b[39m.\u001b[39m_raw_predict(X)\u001b[39m.\u001b[39mravel()\n",
      "File \u001b[0;32m~/programmation/anaconda3/envs/lauzhack/lib/python3.9/site-packages/sklearn/base.py:600\u001b[0m, in \u001b[0;36mBaseEstimator._validate_data\u001b[0;34m(self, X, y, reset, validate_separately, **check_params)\u001b[0m\n\u001b[1;32m    597\u001b[0m     out \u001b[39m=\u001b[39m X, y\n\u001b[1;32m    599\u001b[0m \u001b[39mif\u001b[39;00m \u001b[39mnot\u001b[39;00m no_val_X \u001b[39mand\u001b[39;00m check_params\u001b[39m.\u001b[39mget(\u001b[39m\"\u001b[39m\u001b[39mensure_2d\u001b[39m\u001b[39m\"\u001b[39m, \u001b[39mTrue\u001b[39;00m):\n\u001b[0;32m--> 600\u001b[0m     \u001b[39mself\u001b[39;49m\u001b[39m.\u001b[39;49m_check_n_features(X, reset\u001b[39m=\u001b[39;49mreset)\n\u001b[1;32m    602\u001b[0m \u001b[39mreturn\u001b[39;00m out\n",
      "File \u001b[0;32m~/programmation/anaconda3/envs/lauzhack/lib/python3.9/site-packages/sklearn/base.py:400\u001b[0m, in \u001b[0;36mBaseEstimator._check_n_features\u001b[0;34m(self, X, reset)\u001b[0m\n\u001b[1;32m    397\u001b[0m     \u001b[39mreturn\u001b[39;00m\n\u001b[1;32m    399\u001b[0m \u001b[39mif\u001b[39;00m n_features \u001b[39m!=\u001b[39m \u001b[39mself\u001b[39m\u001b[39m.\u001b[39mn_features_in_:\n\u001b[0;32m--> 400\u001b[0m     \u001b[39mraise\u001b[39;00m \u001b[39mValueError\u001b[39;00m(\n\u001b[1;32m    401\u001b[0m         \u001b[39mf\u001b[39m\u001b[39m\"\u001b[39m\u001b[39mX has \u001b[39m\u001b[39m{\u001b[39;00mn_features\u001b[39m}\u001b[39;00m\u001b[39m features, but \u001b[39m\u001b[39m{\u001b[39;00m\u001b[39mself\u001b[39m\u001b[39m.\u001b[39m\u001b[39m__class__\u001b[39m\u001b[39m.\u001b[39m\u001b[39m__name__\u001b[39m\u001b[39m}\u001b[39;00m\u001b[39m \u001b[39m\u001b[39m\"\u001b[39m\n\u001b[1;32m    402\u001b[0m         \u001b[39mf\u001b[39m\u001b[39m\"\u001b[39m\u001b[39mis expecting \u001b[39m\u001b[39m{\u001b[39;00m\u001b[39mself\u001b[39m\u001b[39m.\u001b[39mn_features_in_\u001b[39m}\u001b[39;00m\u001b[39m features as input.\u001b[39m\u001b[39m\"\u001b[39m\n\u001b[1;32m    403\u001b[0m     )\n",
      "\u001b[0;31mValueError\u001b[0m: X has 4 features, but GradientBoostingRegressor is expecting 214 features as input."
     ]
    }
   ],
   "source": [
    "from predictions import energy\n",
    "from sklearn.linear_model import RidgeCV\n",
    "import numpy as np\n",
    "X = np.random.randn(20,50)\n",
    "energy(RidgeCV, X)"
   ]
  },
  {
   "cell_type": "markdown",
   "metadata": {},
   "source": []
  }
 ],
 "metadata": {
  "kernelspec": {
   "display_name": "Python 3.9.15 ('lauzhack')",
   "language": "python",
   "name": "python3"
  },
  "language_info": {
   "codemirror_mode": {
    "name": "ipython",
    "version": 3
   },
   "file_extension": ".py",
   "mimetype": "text/x-python",
   "name": "python",
   "nbconvert_exporter": "python",
   "pygments_lexer": "ipython3",
   "version": "3.9.15"
  },
  "orig_nbformat": 4,
  "vscode": {
   "interpreter": {
    "hash": "c8af34b48f9309cfc0ad5c75488b7486daa892f05147674061377b8472f53449"
   }
  }
 },
 "nbformat": 4,
 "nbformat_minor": 2
}

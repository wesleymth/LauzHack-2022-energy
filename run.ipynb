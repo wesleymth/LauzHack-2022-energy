{
 "cells": [
  {
   "cell_type": "markdown",
   "metadata": {},
   "source": [
    "# Generate new data sample by running the following code on your computer"
   ]
  },
  {
   "cell_type": "code",
   "execution_count": null,
   "metadata": {},
   "outputs": [],
   "source": [
    "full_dataset_pipeline()"
   ]
  },
  {
   "cell_type": "code",
   "execution_count": null,
   "metadata": {},
   "outputs": [],
   "source": []
  },
  {
   "cell_type": "markdown",
   "metadata": {},
   "source": [
    "# Train the model to predict the energy consumption given the common dataset"
   ]
  },
  {
   "cell_type": "code",
   "execution_count": 2,
   "metadata": {},
   "outputs": [],
   "source": [
    "from train_model import train_models\n",
    "from data_processing import full_dataset_pipeline, convert_filepaths_to_df\n",
    "from os.path import join"
   ]
  },
  {
   "cell_type": "code",
   "execution_count": 3,
   "metadata": {},
   "outputs": [],
   "source": [
    "files = [\n",
    "    [join(\"data\", \"sub_dataset_energy07-57-54_nico.csv\"), join(\"data\",\"Model_features08-12-18_nico.csv\")],\n",
    "    [join(\"data\", \"sub_dataset_energy07-40-32_guillaume.csv\"), join(\"data\", \"Model_features08-15-31_guillaume.csv\")],\n",
    "    [join(\"data\", \"sub_dataset_energy07-26-12_emma.csv\"), join(\"data\", \"Model_features08-15-31_guillaume.csv\")],\n",
    "    [join(\"data\", \"sub_dataset_energy08-43-15_nico2.csv\"), join(\"data\", \"Model_features09-17-12_nico2.csv\")]\n",
    "]\n",
    "\n",
    "files = convert_filepaths_to_df(files)\n",
    "dataset = full_dataset_pipeline(files)"
   ]
  },
  {
   "cell_type": "code",
   "execution_count": 4,
   "metadata": {},
   "outputs": [
    {
     "name": "stderr",
     "output_type": "stream",
     "text": [
      "/Users/emmaboehly/programmation/anaconda3/envs/lauzhack/lib/python3.9/site-packages/sklearn/utils/validation.py:856: VisibleDeprecationWarning: Creating an ndarray from ragged nested sequences (which is a list-or-tuple of lists-or-tuples-or ndarrays with different lengths or shapes) is deprecated. If you meant to do this, you must specify 'dtype=object' when creating the ndarray.\n",
      "  array = np.asarray(array, order=order, dtype=dtype)\n"
     ]
    },
    {
     "ename": "ValueError",
     "evalue": "Expected 2D array, got 1D array instead:\narray=[     onehotencoder__Unnamed: 0_1  onehotencoder__Unnamed: 0_2  \\\n 0                            0.0                          0.0\n 1                            1.0                          0.0\n 2                            0.0                          1.0\n 3                            0.0                          0.0\n 4                            0.0                          0.0\n ..                           ...                          ...\n 705                          0.0                          0.0\n 706                          0.0                          0.0\n 707                          0.0                          0.0\n 708                          0.0                          0.0\n 709                          0.0                          0.0\n\n      onehotencoder__Unnamed: 0_3  onehotencoder__Unnamed: 0_4  \\\n 0                            0.0                          0.0\n 1                            0.0                          0.0\n 2                            0.0                          0.0\n 3                            1.0                          0.0\n 4                            0.0                          1.0\n ..                           ...                          ...\n 705                          0.0                          0.0\n 706                          0.0                          0.0\n 707                          0.0                          0.0\n 708                          0.0                          0.0\n 709                          0.0                          0.0\n\n      onehotencoder__Unnamed: 0_5  onehotencoder__Unnamed: 0_6  \\\n 0                            0.0                          0.0\n 1                            0.0                          0.0\n 2                            0.0                          0.0\n 3                            0.0                          0.0\n 4                            0.0                          0.0\n ..                           ...                          ...\n 705                          0.0                          0.0\n 706                          0.0                          0.0\n 707                          0.0                          0.0\n 708                          0.0                          0.0\n 709                          0.0                          0.0\n\n      onehotencoder__Unnamed: 0_7  onehotencoder__Unnamed: 0_8  \\\n 0                            0.0                          0.0\n 1                            0.0                          0.0\n 2                            0.0                          0.0\n 3                            0.0                          0.0\n 4                            0.0                          0.0\n ..                           ...                          ...\n 705                          0.0                          0.0\n 706                          0.0                          0.0\n 707                          0.0                          0.0\n 708                          0.0                          0.0\n 709                          0.0                          0.0\n\n      onehotencoder__Unnamed: 0_9  onehotencoder__Unnamed: 0_10  ...  \\\n 0                            0.0                           0.0  ...\n 1                            0.0                           0.0  ...\n 2                            0.0                           0.0  ...\n 3                            0.0                           0.0  ...\n 4                            0.0                           0.0  ...\n ..                           ...                           ...  ...\n 705                          0.0                           0.0  ...\n 706                          0.0                           0.0  ...\n 707                          0.0                           0.0  ...\n 708                          0.0                           0.0  ...\n 709                          0.0                           0.0  ...\n\n      onehotencoder__name_model_RidgeClassifierCV  \\\n 0                                            0.0\n 1                                            0.0\n 2                                            0.0\n 3                                            0.0\n 4                                            0.0\n ..                                           ...\n 705                                          0.0\n 706                                          0.0\n 707                                          0.0\n 708                                          0.0\n 709                                          0.0\n\n      onehotencoder__name_model_SGDClassifier  \\\n 0                                        0.0\n 1                                        0.0\n 2                                        0.0\n 3                                        0.0\n 4                                        0.0\n ..                                       ...\n 705                                      0.0\n 706                                      0.0\n 707                                      0.0\n 708                                      0.0\n 709                                      0.0\n\n      onehotencoder__name_model_SGDOneClassSVM  \\\n 0                                         0.0\n 1                                         0.0\n 2                                         0.0\n 3                                         0.0\n 4                                         0.0\n ..                                        ...\n 705                                       0.0\n 706                                       0.0\n 707                                       0.0\n 708                                       0.0\n 709                                       0.0\n\n      onehotencoder__name_model_SGDRegressor  \\\n 0                                       0.0\n 1                                       0.0\n 2                                       0.0\n 3                                       0.0\n 4                                       0.0\n ..                                      ...\n 705                                     0.0\n 706                                     0.0\n 707                                     0.0\n 708                                     0.0\n 709                                     0.0\n\n      onehotencoder__name_model_TheilSenRegressor  \\\n 0                                            0.0\n 1                                            0.0\n 2                                            0.0\n 3                                            0.0\n 4                                            0.0\n ..                                           ...\n 705                                          0.0\n 706                                          0.0\n 707                                          0.0\n 708                                          0.0\n 709                                          0.0\n\n      onehotencoder__name_model_TweedieRegressor  remainder__CPU_count  \\\n 0                                           0.0                  12.0\n 1                                           0.0                  12.0\n 2                                           0.0                  12.0\n 3                                           0.0                  12.0\n 4                                           0.0                  12.0\n ..                                          ...                   ...\n 705                                         1.0                  12.0\n 706                                         1.0                  12.0\n 707                                         1.0                  12.0\n 708                                         1.0                  12.0\n 709                                         1.0                  12.0\n\n      remainder__CPU_GHz  remainder__nb_samples  remainder__nb_preds\n 0                   2.6                   20.0                 20.0\n 1                   2.6                  500.0                 20.0\n 2                   2.6                  500.0                500.0\n 3                   2.6                 2000.0                 20.0\n 4                   2.6                 2000.0                500.0\n ..                  ...                    ...                  ...\n 705                 2.6                  500.0                 20.0\n 706                 2.6                  500.0                500.0\n 707                 2.6                 2000.0                 20.0\n 708                 2.6                 2000.0                500.0\n 709                 2.6                 2000.0               2000.0\n\n [710 rows x 214 columns]\n ColumnTransformer(remainder='passthrough',\n                   transformers=[('onehotencoder', OneHotEncoder(drop='first'),\n                                  array([ True, False,  True, False,  True,  True,  True, False, False]))])].\nReshape your data either using array.reshape(-1, 1) if your data has a single feature or array.reshape(1, -1) if it contains a single sample.",
     "output_type": "error",
     "traceback": [
      "\u001b[0;31m---------------------------------------------------------------------------\u001b[0m",
      "\u001b[0;31mValueError\u001b[0m                                Traceback (most recent call last)",
      "Cell \u001b[0;32mIn[4], line 1\u001b[0m\n\u001b[0;32m----> 1\u001b[0m train_models(dataset)\n",
      "File \u001b[0;32m~/Documents/Master1/LauzHack/LauzHack_energy/train_model.py:20\u001b[0m, in \u001b[0;36mtrain_models\u001b[0;34m(dataset)\u001b[0m\n\u001b[1;32m     17\u001b[0m one_hot_df \u001b[39m=\u001b[39m one_hot_encoding(dataset_X)\n\u001b[1;32m     19\u001b[0m \u001b[39m#Linear Regression Method with logarithmization of the costs\u001b[39;00m\n\u001b[0;32m---> 20\u001b[0m ridge \u001b[39m=\u001b[39m LinearRegression()\u001b[39m.\u001b[39;49mfit(one_hot_df, np\u001b[39m.\u001b[39;49mlog(costs))\n\u001b[1;32m     22\u001b[0m \u001b[39m#XGBoost\u001b[39;00m\n\u001b[1;32m     23\u001b[0m xgboost \u001b[39m=\u001b[39m GradientBoostingRegressor(random_state\u001b[39m=\u001b[39m\u001b[39m0\u001b[39m)\u001b[39m.\u001b[39mfit(one_hot_df, costs)\n",
      "File \u001b[0;32m~/programmation/anaconda3/envs/lauzhack/lib/python3.9/site-packages/sklearn/linear_model/_base.py:684\u001b[0m, in \u001b[0;36mLinearRegression.fit\u001b[0;34m(self, X, y, sample_weight)\u001b[0m\n\u001b[1;32m    680\u001b[0m n_jobs_ \u001b[39m=\u001b[39m \u001b[39mself\u001b[39m\u001b[39m.\u001b[39mn_jobs\n\u001b[1;32m    682\u001b[0m accept_sparse \u001b[39m=\u001b[39m \u001b[39mFalse\u001b[39;00m \u001b[39mif\u001b[39;00m \u001b[39mself\u001b[39m\u001b[39m.\u001b[39mpositive \u001b[39melse\u001b[39;00m [\u001b[39m\"\u001b[39m\u001b[39mcsr\u001b[39m\u001b[39m\"\u001b[39m, \u001b[39m\"\u001b[39m\u001b[39mcsc\u001b[39m\u001b[39m\"\u001b[39m, \u001b[39m\"\u001b[39m\u001b[39mcoo\u001b[39m\u001b[39m\"\u001b[39m]\n\u001b[0;32m--> 684\u001b[0m X, y \u001b[39m=\u001b[39m \u001b[39mself\u001b[39;49m\u001b[39m.\u001b[39;49m_validate_data(\n\u001b[1;32m    685\u001b[0m     X, y, accept_sparse\u001b[39m=\u001b[39;49maccept_sparse, y_numeric\u001b[39m=\u001b[39;49m\u001b[39mTrue\u001b[39;49;00m, multi_output\u001b[39m=\u001b[39;49m\u001b[39mTrue\u001b[39;49;00m\n\u001b[1;32m    686\u001b[0m )\n\u001b[1;32m    688\u001b[0m sample_weight \u001b[39m=\u001b[39m _check_sample_weight(\n\u001b[1;32m    689\u001b[0m     sample_weight, X, dtype\u001b[39m=\u001b[39mX\u001b[39m.\u001b[39mdtype, only_non_negative\u001b[39m=\u001b[39m\u001b[39mTrue\u001b[39;00m\n\u001b[1;32m    690\u001b[0m )\n\u001b[1;32m    692\u001b[0m X, y, X_offset, y_offset, X_scale \u001b[39m=\u001b[39m _preprocess_data(\n\u001b[1;32m    693\u001b[0m     X,\n\u001b[1;32m    694\u001b[0m     y,\n\u001b[0;32m   (...)\u001b[0m\n\u001b[1;32m    698\u001b[0m     sample_weight\u001b[39m=\u001b[39msample_weight,\n\u001b[1;32m    699\u001b[0m )\n",
      "File \u001b[0;32m~/programmation/anaconda3/envs/lauzhack/lib/python3.9/site-packages/sklearn/base.py:596\u001b[0m, in \u001b[0;36mBaseEstimator._validate_data\u001b[0;34m(self, X, y, reset, validate_separately, **check_params)\u001b[0m\n\u001b[1;32m    594\u001b[0m         y \u001b[39m=\u001b[39m check_array(y, input_name\u001b[39m=\u001b[39m\u001b[39m\"\u001b[39m\u001b[39my\u001b[39m\u001b[39m\"\u001b[39m, \u001b[39m*\u001b[39m\u001b[39m*\u001b[39mcheck_y_params)\n\u001b[1;32m    595\u001b[0m     \u001b[39melse\u001b[39;00m:\n\u001b[0;32m--> 596\u001b[0m         X, y \u001b[39m=\u001b[39m check_X_y(X, y, \u001b[39m*\u001b[39;49m\u001b[39m*\u001b[39;49mcheck_params)\n\u001b[1;32m    597\u001b[0m     out \u001b[39m=\u001b[39m X, y\n\u001b[1;32m    599\u001b[0m \u001b[39mif\u001b[39;00m \u001b[39mnot\u001b[39;00m no_val_X \u001b[39mand\u001b[39;00m check_params\u001b[39m.\u001b[39mget(\u001b[39m\"\u001b[39m\u001b[39mensure_2d\u001b[39m\u001b[39m\"\u001b[39m, \u001b[39mTrue\u001b[39;00m):\n",
      "File \u001b[0;32m~/programmation/anaconda3/envs/lauzhack/lib/python3.9/site-packages/sklearn/utils/validation.py:1074\u001b[0m, in \u001b[0;36mcheck_X_y\u001b[0;34m(X, y, accept_sparse, accept_large_sparse, dtype, order, copy, force_all_finite, ensure_2d, allow_nd, multi_output, ensure_min_samples, ensure_min_features, y_numeric, estimator)\u001b[0m\n\u001b[1;32m   1069\u001b[0m         estimator_name \u001b[39m=\u001b[39m _check_estimator_name(estimator)\n\u001b[1;32m   1070\u001b[0m     \u001b[39mraise\u001b[39;00m \u001b[39mValueError\u001b[39;00m(\n\u001b[1;32m   1071\u001b[0m         \u001b[39mf\u001b[39m\u001b[39m\"\u001b[39m\u001b[39m{\u001b[39;00mestimator_name\u001b[39m}\u001b[39;00m\u001b[39m requires y to be passed, but the target y is None\u001b[39m\u001b[39m\"\u001b[39m\n\u001b[1;32m   1072\u001b[0m     )\n\u001b[0;32m-> 1074\u001b[0m X \u001b[39m=\u001b[39m check_array(\n\u001b[1;32m   1075\u001b[0m     X,\n\u001b[1;32m   1076\u001b[0m     accept_sparse\u001b[39m=\u001b[39;49maccept_sparse,\n\u001b[1;32m   1077\u001b[0m     accept_large_sparse\u001b[39m=\u001b[39;49maccept_large_sparse,\n\u001b[1;32m   1078\u001b[0m     dtype\u001b[39m=\u001b[39;49mdtype,\n\u001b[1;32m   1079\u001b[0m     order\u001b[39m=\u001b[39;49morder,\n\u001b[1;32m   1080\u001b[0m     copy\u001b[39m=\u001b[39;49mcopy,\n\u001b[1;32m   1081\u001b[0m     force_all_finite\u001b[39m=\u001b[39;49mforce_all_finite,\n\u001b[1;32m   1082\u001b[0m     ensure_2d\u001b[39m=\u001b[39;49mensure_2d,\n\u001b[1;32m   1083\u001b[0m     allow_nd\u001b[39m=\u001b[39;49mallow_nd,\n\u001b[1;32m   1084\u001b[0m     ensure_min_samples\u001b[39m=\u001b[39;49mensure_min_samples,\n\u001b[1;32m   1085\u001b[0m     ensure_min_features\u001b[39m=\u001b[39;49mensure_min_features,\n\u001b[1;32m   1086\u001b[0m     estimator\u001b[39m=\u001b[39;49mestimator,\n\u001b[1;32m   1087\u001b[0m     input_name\u001b[39m=\u001b[39;49m\u001b[39m\"\u001b[39;49m\u001b[39mX\u001b[39;49m\u001b[39m\"\u001b[39;49m,\n\u001b[1;32m   1088\u001b[0m )\n\u001b[1;32m   1090\u001b[0m y \u001b[39m=\u001b[39m _check_y(y, multi_output\u001b[39m=\u001b[39mmulti_output, y_numeric\u001b[39m=\u001b[39my_numeric, estimator\u001b[39m=\u001b[39mestimator)\n\u001b[1;32m   1092\u001b[0m check_consistent_length(X, y)\n",
      "File \u001b[0;32m~/programmation/anaconda3/envs/lauzhack/lib/python3.9/site-packages/sklearn/utils/validation.py:879\u001b[0m, in \u001b[0;36mcheck_array\u001b[0;34m(array, accept_sparse, accept_large_sparse, dtype, order, copy, force_all_finite, ensure_2d, allow_nd, ensure_min_samples, ensure_min_features, estimator, input_name)\u001b[0m\n\u001b[1;32m    877\u001b[0m     \u001b[39m# If input is 1D raise error\u001b[39;00m\n\u001b[1;32m    878\u001b[0m     \u001b[39mif\u001b[39;00m array\u001b[39m.\u001b[39mndim \u001b[39m==\u001b[39m \u001b[39m1\u001b[39m:\n\u001b[0;32m--> 879\u001b[0m         \u001b[39mraise\u001b[39;00m \u001b[39mValueError\u001b[39;00m(\n\u001b[1;32m    880\u001b[0m             \u001b[39m\"\u001b[39m\u001b[39mExpected 2D array, got 1D array instead:\u001b[39m\u001b[39m\\n\u001b[39;00m\u001b[39marray=\u001b[39m\u001b[39m{}\u001b[39;00m\u001b[39m.\u001b[39m\u001b[39m\\n\u001b[39;00m\u001b[39m\"\u001b[39m\n\u001b[1;32m    881\u001b[0m             \u001b[39m\"\u001b[39m\u001b[39mReshape your data either using array.reshape(-1, 1) if \u001b[39m\u001b[39m\"\u001b[39m\n\u001b[1;32m    882\u001b[0m             \u001b[39m\"\u001b[39m\u001b[39myour data has a single feature or array.reshape(1, -1) \u001b[39m\u001b[39m\"\u001b[39m\n\u001b[1;32m    883\u001b[0m             \u001b[39m\"\u001b[39m\u001b[39mif it contains a single sample.\u001b[39m\u001b[39m\"\u001b[39m\u001b[39m.\u001b[39mformat(array)\n\u001b[1;32m    884\u001b[0m         )\n\u001b[1;32m    886\u001b[0m \u001b[39mif\u001b[39;00m dtype_numeric \u001b[39mand\u001b[39;00m array\u001b[39m.\u001b[39mdtype\u001b[39m.\u001b[39mkind \u001b[39min\u001b[39;00m \u001b[39m\"\u001b[39m\u001b[39mUSV\u001b[39m\u001b[39m\"\u001b[39m:\n\u001b[1;32m    887\u001b[0m     \u001b[39mraise\u001b[39;00m \u001b[39mValueError\u001b[39;00m(\n\u001b[1;32m    888\u001b[0m         \u001b[39m\"\u001b[39m\u001b[39mdtype=\u001b[39m\u001b[39m'\u001b[39m\u001b[39mnumeric\u001b[39m\u001b[39m'\u001b[39m\u001b[39m is not compatible with arrays of bytes/strings.\u001b[39m\u001b[39m\"\u001b[39m\n\u001b[1;32m    889\u001b[0m         \u001b[39m\"\u001b[39m\u001b[39mConvert your data to numeric values explicitly instead.\u001b[39m\u001b[39m\"\u001b[39m\n\u001b[1;32m    890\u001b[0m     )\n",
      "\u001b[0;31mValueError\u001b[0m: Expected 2D array, got 1D array instead:\narray=[     onehotencoder__Unnamed: 0_1  onehotencoder__Unnamed: 0_2  \\\n 0                            0.0                          0.0\n 1                            1.0                          0.0\n 2                            0.0                          1.0\n 3                            0.0                          0.0\n 4                            0.0                          0.0\n ..                           ...                          ...\n 705                          0.0                          0.0\n 706                          0.0                          0.0\n 707                          0.0                          0.0\n 708                          0.0                          0.0\n 709                          0.0                          0.0\n\n      onehotencoder__Unnamed: 0_3  onehotencoder__Unnamed: 0_4  \\\n 0                            0.0                          0.0\n 1                            0.0                          0.0\n 2                            0.0                          0.0\n 3                            1.0                          0.0\n 4                            0.0                          1.0\n ..                           ...                          ...\n 705                          0.0                          0.0\n 706                          0.0                          0.0\n 707                          0.0                          0.0\n 708                          0.0                          0.0\n 709                          0.0                          0.0\n\n      onehotencoder__Unnamed: 0_5  onehotencoder__Unnamed: 0_6  \\\n 0                            0.0                          0.0\n 1                            0.0                          0.0\n 2                            0.0                          0.0\n 3                            0.0                          0.0\n 4                            0.0                          0.0\n ..                           ...                          ...\n 705                          0.0                          0.0\n 706                          0.0                          0.0\n 707                          0.0                          0.0\n 708                          0.0                          0.0\n 709                          0.0                          0.0\n\n      onehotencoder__Unnamed: 0_7  onehotencoder__Unnamed: 0_8  \\\n 0                            0.0                          0.0\n 1                            0.0                          0.0\n 2                            0.0                          0.0\n 3                            0.0                          0.0\n 4                            0.0                          0.0\n ..                           ...                          ...\n 705                          0.0                          0.0\n 706                          0.0                          0.0\n 707                          0.0                          0.0\n 708                          0.0                          0.0\n 709                          0.0                          0.0\n\n      onehotencoder__Unnamed: 0_9  onehotencoder__Unnamed: 0_10  ...  \\\n 0                            0.0                           0.0  ...\n 1                            0.0                           0.0  ...\n 2                            0.0                           0.0  ...\n 3                            0.0                           0.0  ...\n 4                            0.0                           0.0  ...\n ..                           ...                           ...  ...\n 705                          0.0                           0.0  ...\n 706                          0.0                           0.0  ...\n 707                          0.0                           0.0  ...\n 708                          0.0                           0.0  ...\n 709                          0.0                           0.0  ...\n\n      onehotencoder__name_model_RidgeClassifierCV  \\\n 0                                            0.0\n 1                                            0.0\n 2                                            0.0\n 3                                            0.0\n 4                                            0.0\n ..                                           ...\n 705                                          0.0\n 706                                          0.0\n 707                                          0.0\n 708                                          0.0\n 709                                          0.0\n\n      onehotencoder__name_model_SGDClassifier  \\\n 0                                        0.0\n 1                                        0.0\n 2                                        0.0\n 3                                        0.0\n 4                                        0.0\n ..                                       ...\n 705                                      0.0\n 706                                      0.0\n 707                                      0.0\n 708                                      0.0\n 709                                      0.0\n\n      onehotencoder__name_model_SGDOneClassSVM  \\\n 0                                         0.0\n 1                                         0.0\n 2                                         0.0\n 3                                         0.0\n 4                                         0.0\n ..                                        ...\n 705                                       0.0\n 706                                       0.0\n 707                                       0.0\n 708                                       0.0\n 709                                       0.0\n\n      onehotencoder__name_model_SGDRegressor  \\\n 0                                       0.0\n 1                                       0.0\n 2                                       0.0\n 3                                       0.0\n 4                                       0.0\n ..                                      ...\n 705                                     0.0\n 706                                     0.0\n 707                                     0.0\n 708                                     0.0\n 709                                     0.0\n\n      onehotencoder__name_model_TheilSenRegressor  \\\n 0                                            0.0\n 1                                            0.0\n 2                                            0.0\n 3                                            0.0\n 4                                            0.0\n ..                                           ...\n 705                                          0.0\n 706                                          0.0\n 707                                          0.0\n 708                                          0.0\n 709                                          0.0\n\n      onehotencoder__name_model_TweedieRegressor  remainder__CPU_count  \\\n 0                                           0.0                  12.0\n 1                                           0.0                  12.0\n 2                                           0.0                  12.0\n 3                                           0.0                  12.0\n 4                                           0.0                  12.0\n ..                                          ...                   ...\n 705                                         1.0                  12.0\n 706                                         1.0                  12.0\n 707                                         1.0                  12.0\n 708                                         1.0                  12.0\n 709                                         1.0                  12.0\n\n      remainder__CPU_GHz  remainder__nb_samples  remainder__nb_preds\n 0                   2.6                   20.0                 20.0\n 1                   2.6                  500.0                 20.0\n 2                   2.6                  500.0                500.0\n 3                   2.6                 2000.0                 20.0\n 4                   2.6                 2000.0                500.0\n ..                  ...                    ...                  ...\n 705                 2.6                  500.0                 20.0\n 706                 2.6                  500.0                500.0\n 707                 2.6                 2000.0                 20.0\n 708                 2.6                 2000.0                500.0\n 709                 2.6                 2000.0               2000.0\n\n [710 rows x 214 columns]\n ColumnTransformer(remainder='passthrough',\n                   transformers=[('onehotencoder', OneHotEncoder(drop='first'),\n                                  array([ True, False,  True, False,  True,  True,  True, False, False]))])].\nReshape your data either using array.reshape(-1, 1) if your data has a single feature or array.reshape(1, -1) if it contains a single sample."
     ]
    }
   ],
   "source": [
    "train_models(dataset)"
   ]
  },
  {
   "cell_type": "markdown",
   "metadata": {},
   "source": [
    "# Predict the energy consumption of your model fit"
   ]
  },
  {
   "cell_type": "code",
   "execution_count": 1,
   "metadata": {},
   "outputs": [
    {
     "ename": "ImportError",
     "evalue": "cannot import name 'one_hot_encoding_test' from 'train_model' (/Users/emmaboehly/Documents/Master1/LauzHack/LauzHack_energy/train_model.py)",
     "output_type": "error",
     "traceback": [
      "\u001b[0;31m---------------------------------------------------------------------------\u001b[0m",
      "\u001b[0;31mImportError\u001b[0m                               Traceback (most recent call last)",
      "Cell \u001b[0;32mIn[1], line 1\u001b[0m\n\u001b[0;32m----> 1\u001b[0m \u001b[39mfrom\u001b[39;00m \u001b[39mpredictions\u001b[39;00m \u001b[39mimport\u001b[39;00m energy\n\u001b[1;32m      2\u001b[0m \u001b[39mfrom\u001b[39;00m \u001b[39msklearn\u001b[39;00m\u001b[39m.\u001b[39;00m\u001b[39mlinear_model\u001b[39;00m \u001b[39mimport\u001b[39;00m RidgeCV\n\u001b[1;32m      3\u001b[0m \u001b[39mimport\u001b[39;00m \u001b[39mnumpy\u001b[39;00m \u001b[39mas\u001b[39;00m \u001b[39mnp\u001b[39;00m\n",
      "File \u001b[0;32m~/Documents/Master1/LauzHack/LauzHack_energy/predictions.py:4\u001b[0m\n\u001b[1;32m      2\u001b[0m \u001b[39mfrom\u001b[39;00m \u001b[39mjoblib\u001b[39;00m \u001b[39mimport\u001b[39;00m dump, load\n\u001b[1;32m      3\u001b[0m \u001b[39mfrom\u001b[39;00m \u001b[39mdata_processing\u001b[39;00m \u001b[39mimport\u001b[39;00m rename_categorical_cols\n\u001b[0;32m----> 4\u001b[0m \u001b[39mfrom\u001b[39;00m \u001b[39mtrain_model\u001b[39;00m \u001b[39mimport\u001b[39;00m one_hot_encoding_test\n\u001b[1;32m      6\u001b[0m \u001b[39mdef\u001b[39;00m \u001b[39mpredict\u001b[39m(df):\n\u001b[1;32m      7\u001b[0m     model \u001b[39m=\u001b[39m load(\u001b[39m'\u001b[39m\u001b[39mxgboost.joblib\u001b[39m\u001b[39m'\u001b[39m)\n",
      "\u001b[0;31mImportError\u001b[0m: cannot import name 'one_hot_encoding_test' from 'train_model' (/Users/emmaboehly/Documents/Master1/LauzHack/LauzHack_energy/train_model.py)"
     ]
    }
   ],
   "source": [
    "from predictions import energy\n",
    "from sklearn.linear_model import RidgeCV\n",
    "import numpy as np\n",
    "X = np.random.randn(20,50)\n",
    "energy(RidgeCV, X)"
   ]
  },
  {
   "cell_type": "markdown",
   "metadata": {},
   "source": []
  }
 ],
 "metadata": {
  "kernelspec": {
   "display_name": "Python 3.9.15 ('lauzhack')",
   "language": "python",
   "name": "python3"
  },
  "language_info": {
   "codemirror_mode": {
    "name": "ipython",
    "version": 3
   },
   "file_extension": ".py",
   "mimetype": "text/x-python",
   "name": "python",
   "nbconvert_exporter": "python",
   "pygments_lexer": "ipython3",
   "version": "3.9.15"
  },
  "orig_nbformat": 4,
  "vscode": {
   "interpreter": {
    "hash": "c8af34b48f9309cfc0ad5c75488b7486daa892f05147674061377b8472f53449"
   }
  }
 },
 "nbformat": 4,
 "nbformat_minor": 2
}

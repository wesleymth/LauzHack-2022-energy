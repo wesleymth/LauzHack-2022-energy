{
 "cells": [
  {
   "cell_type": "code",
   "execution_count": 2,
   "metadata": {},
   "outputs": [],
   "source": [
    "from sklearn.linear_model import LinearRegression\n",
    "import numpy as np\n",
    "import pandas as pd\n",
    "from codecarbon import EmissionsTracker"
   ]
  },
  {
   "cell_type": "code",
   "execution_count": 3,
   "metadata": {},
   "outputs": [],
   "source": [
    "#! codecarbon init"
   ]
  },
  {
   "cell_type": "code",
   "execution_count": 4,
   "metadata": {},
   "outputs": [],
   "source": [
    "# tracker = EmissionsTracker()\n",
    "# tracker.flush()\n",
    "# X = np.random.randn(10000, 5000)\n",
    "# y = np.random.randn(10000)\n",
    "# tracker.start()\n",
    "# reg = LinearRegression().fit(X, y)\n",
    "# tracker.stop()"
   ]
  },
  {
   "cell_type": "markdown",
   "metadata": {},
   "source": []
  },
  {
   "cell_type": "code",
   "execution_count": 3,
   "metadata": {},
   "outputs": [],
   "source": [
    "import sklearn.linear_model as skl"
   ]
  },
  {
   "cell_type": "code",
   "execution_count": 9,
   "metadata": {},
   "outputs": [],
   "source": [
    "l = skl.__all__"
   ]
  },
  {
   "cell_type": "code",
   "execution_count": 4,
   "metadata": {},
   "outputs": [],
   "source": [
    "\n",
    "X = np.random.randn(500, 100)\n",
    "y = np.random.randn(500)"
   ]
  },
  {
   "cell_type": "code",
   "execution_count": 5,
   "metadata": {},
   "outputs": [],
   "source": [
    "from inspect import getmembers, isfunction"
   ]
  },
  {
   "cell_type": "code",
   "execution_count": 29,
   "metadata": {},
   "outputs": [
    {
     "data": {
      "text/plain": [
       "[('ARDRegression', sklearn.linear_model._bayes.ARDRegression),\n",
       " ('BayesianRidge', sklearn.linear_model._bayes.BayesianRidge),\n",
       " ('ElasticNet', sklearn.linear_model._coordinate_descent.ElasticNet),\n",
       " ('ElasticNetCV', sklearn.linear_model._coordinate_descent.ElasticNetCV),\n",
       " ('GammaRegressor', sklearn.linear_model._glm.glm.GammaRegressor),\n",
       " ('Hinge', sklearn.linear_model._sgd_fast.Hinge),\n",
       " ('Huber', sklearn.linear_model._sgd_fast.Huber),\n",
       " ('HuberRegressor', sklearn.linear_model._huber.HuberRegressor),\n",
       " ('Lars', sklearn.linear_model._least_angle.Lars),\n",
       " ('LarsCV', sklearn.linear_model._least_angle.LarsCV),\n",
       " ('Lasso', sklearn.linear_model._coordinate_descent.Lasso),\n",
       " ('LassoCV', sklearn.linear_model._coordinate_descent.LassoCV),\n",
       " ('LassoLars', sklearn.linear_model._least_angle.LassoLars),\n",
       " ('LassoLarsCV', sklearn.linear_model._least_angle.LassoLarsCV),\n",
       " ('LassoLarsIC', sklearn.linear_model._least_angle.LassoLarsIC),\n",
       " ('LinearRegression', sklearn.linear_model._base.LinearRegression),\n",
       " ('Log', sklearn.linear_model._sgd_fast.Log),\n",
       " ('LogisticRegression', sklearn.linear_model._logistic.LogisticRegression),\n",
       " ('LogisticRegressionCV', sklearn.linear_model._logistic.LogisticRegressionCV),\n",
       " ('ModifiedHuber', sklearn.linear_model._sgd_fast.ModifiedHuber),\n",
       " ('MultiTaskElasticNet',\n",
       "  sklearn.linear_model._coordinate_descent.MultiTaskElasticNet),\n",
       " ('MultiTaskElasticNetCV',\n",
       "  sklearn.linear_model._coordinate_descent.MultiTaskElasticNetCV),\n",
       " ('MultiTaskLasso', sklearn.linear_model._coordinate_descent.MultiTaskLasso),\n",
       " ('MultiTaskLassoCV',\n",
       "  sklearn.linear_model._coordinate_descent.MultiTaskLassoCV),\n",
       " ('OrthogonalMatchingPursuit',\n",
       "  sklearn.linear_model._omp.OrthogonalMatchingPursuit),\n",
       " ('OrthogonalMatchingPursuitCV',\n",
       "  sklearn.linear_model._omp.OrthogonalMatchingPursuitCV),\n",
       " ('PassiveAggressiveClassifier',\n",
       "  sklearn.linear_model._passive_aggressive.PassiveAggressiveClassifier),\n",
       " ('PassiveAggressiveRegressor',\n",
       "  sklearn.linear_model._passive_aggressive.PassiveAggressiveRegressor),\n",
       " ('Perceptron', sklearn.linear_model._perceptron.Perceptron),\n",
       " ('PoissonRegressor', sklearn.linear_model._glm.glm.PoissonRegressor),\n",
       " ('QuantileRegressor', sklearn.linear_model._quantile.QuantileRegressor),\n",
       " ('RANSACRegressor', sklearn.linear_model._ransac.RANSACRegressor),\n",
       " ('Ridge', sklearn.linear_model._ridge.Ridge),\n",
       " ('RidgeCV', sklearn.linear_model._ridge.RidgeCV),\n",
       " ('RidgeClassifier', sklearn.linear_model._ridge.RidgeClassifier),\n",
       " ('RidgeClassifierCV', sklearn.linear_model._ridge.RidgeClassifierCV),\n",
       " ('SGDClassifier', sklearn.linear_model._stochastic_gradient.SGDClassifier),\n",
       " ('SGDOneClassSVM', sklearn.linear_model._stochastic_gradient.SGDOneClassSVM),\n",
       " ('SGDRegressor', sklearn.linear_model._stochastic_gradient.SGDRegressor),\n",
       " ('SquaredLoss', sklearn.linear_model._sgd_fast.SquaredLoss),\n",
       " ('TheilSenRegressor', sklearn.linear_model._theil_sen.TheilSenRegressor),\n",
       " ('TweedieRegressor', sklearn.linear_model._glm.glm.TweedieRegressor),\n",
       " ('__all__',\n",
       "  ['ARDRegression',\n",
       "   'BayesianRidge',\n",
       "   'ElasticNet',\n",
       "   'ElasticNetCV',\n",
       "   'Hinge',\n",
       "   'Huber',\n",
       "   'HuberRegressor',\n",
       "   'Lars',\n",
       "   'LarsCV',\n",
       "   'Lasso',\n",
       "   'LassoCV',\n",
       "   'LassoLars',\n",
       "   'LassoLarsCV',\n",
       "   'LassoLarsIC',\n",
       "   'LinearRegression',\n",
       "   'Log',\n",
       "   'LogisticRegression',\n",
       "   'LogisticRegressionCV',\n",
       "   'ModifiedHuber',\n",
       "   'MultiTaskElasticNet',\n",
       "   'MultiTaskElasticNetCV',\n",
       "   'MultiTaskLasso',\n",
       "   'MultiTaskLassoCV',\n",
       "   'OrthogonalMatchingPursuit',\n",
       "   'OrthogonalMatchingPursuitCV',\n",
       "   'PassiveAggressiveClassifier',\n",
       "   'PassiveAggressiveRegressor',\n",
       "   'Perceptron',\n",
       "   'QuantileRegressor',\n",
       "   'Ridge',\n",
       "   'RidgeCV',\n",
       "   'RidgeClassifier',\n",
       "   'RidgeClassifierCV',\n",
       "   'SGDClassifier',\n",
       "   'SGDRegressor',\n",
       "   'SGDOneClassSVM',\n",
       "   'SquaredLoss',\n",
       "   'TheilSenRegressor',\n",
       "   'enet_path',\n",
       "   'lars_path',\n",
       "   'lars_path_gram',\n",
       "   'lasso_path',\n",
       "   'orthogonal_mp',\n",
       "   'orthogonal_mp_gram',\n",
       "   'ridge_regression',\n",
       "   'RANSACRegressor',\n",
       "   'PoissonRegressor',\n",
       "   'GammaRegressor',\n",
       "   'TweedieRegressor']),\n",
       " ('__builtins__',\n",
       "  {'__name__': 'builtins',\n",
       "   '__doc__': \"Built-in functions, exceptions, and other objects.\\n\\nNoteworthy: None is the `nil' object; Ellipsis represents `...' in slices.\",\n",
       "   '__package__': '',\n",
       "   '__loader__': _frozen_importlib.BuiltinImporter,\n",
       "   '__spec__': ModuleSpec(name='builtins', loader=<class '_frozen_importlib.BuiltinImporter'>, origin='built-in'),\n",
       "   '__build_class__': <function __build_class__>,\n",
       "   '__import__': <function __import__>,\n",
       "   'abs': <function abs(x, /)>,\n",
       "   'all': <function all(iterable, /)>,\n",
       "   'any': <function any(iterable, /)>,\n",
       "   'ascii': <function ascii(obj, /)>,\n",
       "   'bin': <function bin(number, /)>,\n",
       "   'breakpoint': <function breakpoint>,\n",
       "   'callable': <function callable(obj, /)>,\n",
       "   'chr': <function chr(i, /)>,\n",
       "   'compile': <function compile(source, filename, mode, flags=0, dont_inherit=False, optimize=-1, *, _feature_version=-1)>,\n",
       "   'delattr': <function delattr(obj, name, /)>,\n",
       "   'dir': <function dir>,\n",
       "   'divmod': <function divmod(x, y, /)>,\n",
       "   'eval': <function eval(source, globals=None, locals=None, /)>,\n",
       "   'exec': <function exec(source, globals=None, locals=None, /)>,\n",
       "   'format': <function format(value, format_spec='', /)>,\n",
       "   'getattr': <function getattr>,\n",
       "   'globals': <function globals()>,\n",
       "   'hasattr': <function hasattr(obj, name, /)>,\n",
       "   'hash': <function hash(obj, /)>,\n",
       "   'hex': <function hex(number, /)>,\n",
       "   'id': <function id(obj, /)>,\n",
       "   'input': <bound method Kernel.raw_input of <ipykernel.ipkernel.IPythonKernel object at 0x00000196C94FB580>>,\n",
       "   'isinstance': <function isinstance(obj, class_or_tuple, /)>,\n",
       "   'issubclass': <function issubclass(cls, class_or_tuple, /)>,\n",
       "   'iter': <function iter>,\n",
       "   'len': <function len(obj, /)>,\n",
       "   'locals': <function locals()>,\n",
       "   'max': <function max>,\n",
       "   'min': <function min>,\n",
       "   'next': <function next>,\n",
       "   'oct': <function oct(number, /)>,\n",
       "   'ord': <function ord(c, /)>,\n",
       "   'pow': <function pow(base, exp, mod=None)>,\n",
       "   'print': <function print>,\n",
       "   'repr': <function repr(obj, /)>,\n",
       "   'round': <function round(number, ndigits=None)>,\n",
       "   'setattr': <function setattr(obj, name, value, /)>,\n",
       "   'sorted': <function sorted(iterable, /, *, key=None, reverse=False)>,\n",
       "   'sum': <function sum(iterable, /, start=0)>,\n",
       "   'vars': <function vars>,\n",
       "   'None': None,\n",
       "   'Ellipsis': Ellipsis,\n",
       "   'NotImplemented': NotImplemented,\n",
       "   'False': False,\n",
       "   'True': True,\n",
       "   'bool': bool,\n",
       "   'memoryview': memoryview,\n",
       "   'bytearray': bytearray,\n",
       "   'bytes': bytes,\n",
       "   'classmethod': classmethod,\n",
       "   'complex': complex,\n",
       "   'dict': dict,\n",
       "   'enumerate': enumerate,\n",
       "   'filter': filter,\n",
       "   'float': float,\n",
       "   'frozenset': frozenset,\n",
       "   'property': property,\n",
       "   'int': int,\n",
       "   'list': list,\n",
       "   'map': map,\n",
       "   'object': object,\n",
       "   'range': range,\n",
       "   'reversed': reversed,\n",
       "   'set': set,\n",
       "   'slice': slice,\n",
       "   'staticmethod': staticmethod,\n",
       "   'str': str,\n",
       "   'super': super,\n",
       "   'tuple': tuple,\n",
       "   'type': type,\n",
       "   'zip': zip,\n",
       "   '__debug__': True,\n",
       "   'BaseException': BaseException,\n",
       "   'Exception': Exception,\n",
       "   'TypeError': TypeError,\n",
       "   'StopAsyncIteration': StopAsyncIteration,\n",
       "   'StopIteration': StopIteration,\n",
       "   'GeneratorExit': GeneratorExit,\n",
       "   'SystemExit': SystemExit,\n",
       "   'KeyboardInterrupt': KeyboardInterrupt,\n",
       "   'ImportError': ImportError,\n",
       "   'ModuleNotFoundError': ModuleNotFoundError,\n",
       "   'OSError': OSError,\n",
       "   'EnvironmentError': OSError,\n",
       "   'IOError': OSError,\n",
       "   'WindowsError': OSError,\n",
       "   'EOFError': EOFError,\n",
       "   'RuntimeError': RuntimeError,\n",
       "   'RecursionError': RecursionError,\n",
       "   'NotImplementedError': NotImplementedError,\n",
       "   'NameError': NameError,\n",
       "   'UnboundLocalError': UnboundLocalError,\n",
       "   'AttributeError': AttributeError,\n",
       "   'SyntaxError': SyntaxError,\n",
       "   'IndentationError': IndentationError,\n",
       "   'TabError': TabError,\n",
       "   'LookupError': LookupError,\n",
       "   'IndexError': IndexError,\n",
       "   'KeyError': KeyError,\n",
       "   'ValueError': ValueError,\n",
       "   'UnicodeError': UnicodeError,\n",
       "   'UnicodeEncodeError': UnicodeEncodeError,\n",
       "   'UnicodeDecodeError': UnicodeDecodeError,\n",
       "   'UnicodeTranslateError': UnicodeTranslateError,\n",
       "   'AssertionError': AssertionError,\n",
       "   'ArithmeticError': ArithmeticError,\n",
       "   'FloatingPointError': FloatingPointError,\n",
       "   'OverflowError': OverflowError,\n",
       "   'ZeroDivisionError': ZeroDivisionError,\n",
       "   'SystemError': SystemError,\n",
       "   'ReferenceError': ReferenceError,\n",
       "   'MemoryError': MemoryError,\n",
       "   'BufferError': BufferError,\n",
       "   'Warning': Warning,\n",
       "   'UserWarning': UserWarning,\n",
       "   'DeprecationWarning': DeprecationWarning,\n",
       "   'PendingDeprecationWarning': PendingDeprecationWarning,\n",
       "   'SyntaxWarning': SyntaxWarning,\n",
       "   'RuntimeWarning': RuntimeWarning,\n",
       "   'FutureWarning': FutureWarning,\n",
       "   'ImportWarning': ImportWarning,\n",
       "   'UnicodeWarning': UnicodeWarning,\n",
       "   'BytesWarning': BytesWarning,\n",
       "   'ResourceWarning': ResourceWarning,\n",
       "   'ConnectionError': ConnectionError,\n",
       "   'BlockingIOError': BlockingIOError,\n",
       "   'BrokenPipeError': BrokenPipeError,\n",
       "   'ChildProcessError': ChildProcessError,\n",
       "   'ConnectionAbortedError': ConnectionAbortedError,\n",
       "   'ConnectionRefusedError': ConnectionRefusedError,\n",
       "   'ConnectionResetError': ConnectionResetError,\n",
       "   'FileExistsError': FileExistsError,\n",
       "   'FileNotFoundError': FileNotFoundError,\n",
       "   'IsADirectoryError': IsADirectoryError,\n",
       "   'NotADirectoryError': NotADirectoryError,\n",
       "   'InterruptedError': InterruptedError,\n",
       "   'PermissionError': PermissionError,\n",
       "   'ProcessLookupError': ProcessLookupError,\n",
       "   'TimeoutError': TimeoutError,\n",
       "   'open': <function io.open(file, mode='r', buffering=-1, encoding=None, errors=None, newline=None, closefd=True, opener=None)>,\n",
       "   'copyright': Copyright (c) 2001-2022 Python Software Foundation.\n",
       "   All Rights Reserved.\n",
       "   \n",
       "   Copyright (c) 2000 BeOpen.com.\n",
       "   All Rights Reserved.\n",
       "   \n",
       "   Copyright (c) 1995-2001 Corporation for National Research Initiatives.\n",
       "   All Rights Reserved.\n",
       "   \n",
       "   Copyright (c) 1991-1995 Stichting Mathematisch Centrum, Amsterdam.\n",
       "   All Rights Reserved.,\n",
       "   'credits':     Thanks to CWI, CNRI, BeOpen.com, Zope Corporation and a cast of thousands\n",
       "       for supporting Python development.  See www.python.org for more information.,\n",
       "   'license': Type license() to see the full license text,\n",
       "   'help': Type help() for interactive help, or help(object) for help about object.,\n",
       "   'execfile': <function _pydev_imps._pydev_execfile.execfile(file, glob=None, loc=None)>,\n",
       "   'runfile': <function _pydev_bundle.pydev_umd.runfile(filename, args=None, wdir=None, namespace=None)>,\n",
       "   '__IPYTHON__': True,\n",
       "   'display': <function IPython.core.display_functions.display(*objs, include=None, exclude=None, metadata=None, transient=None, display_id=None, raw=False, clear=False, **kwargs)>,\n",
       "   '__pybind11_internals_v4_mingw_libstdcpp_cxxabi1014__': <capsule object NULL at 0x00000196E1C69F60>,\n",
       "   'get_ipython': <bound method InteractiveShell.get_ipython of <ipykernel.zmqshell.ZMQInteractiveShell object at 0x00000196C94FBB50>>}),\n",
       " ('__cached__',\n",
       "  'c:\\\\Users\\\\nico9\\\\anaconda3\\\\envs\\\\LauzHack\\\\lib\\\\site-packages\\\\sklearn\\\\linear_model\\\\__pycache__\\\\__init__.cpython-39.pyc'),\n",
       " ('__doc__',\n",
       "  '\\nThe :mod:`sklearn.linear_model` module implements a variety of linear models.\\n'),\n",
       " ('__file__',\n",
       "  'c:\\\\Users\\\\nico9\\\\anaconda3\\\\envs\\\\LauzHack\\\\lib\\\\site-packages\\\\sklearn\\\\linear_model\\\\__init__.py'),\n",
       " ('__loader__',\n",
       "  <_frozen_importlib_external.SourceFileLoader at 0x196ca38fa00>),\n",
       " ('__name__', 'sklearn.linear_model'),\n",
       " ('__package__', 'sklearn.linear_model'),\n",
       " ('__path__',\n",
       "  ['c:\\\\Users\\\\nico9\\\\anaconda3\\\\envs\\\\LauzHack\\\\lib\\\\site-packages\\\\sklearn\\\\linear_model']),\n",
       " ('__spec__',\n",
       "  ModuleSpec(name='sklearn.linear_model', loader=<_frozen_importlib_external.SourceFileLoader object at 0x00000196CA38FA00>, origin='c:\\\\Users\\\\nico9\\\\anaconda3\\\\envs\\\\LauzHack\\\\lib\\\\site-packages\\\\sklearn\\\\linear_model\\\\__init__.py', submodule_search_locations=['c:\\\\Users\\\\nico9\\\\anaconda3\\\\envs\\\\LauzHack\\\\lib\\\\site-packages\\\\sklearn\\\\linear_model'])),\n",
       " ('_base',\n",
       "  <module 'sklearn.linear_model._base' from 'c:\\\\Users\\\\nico9\\\\anaconda3\\\\envs\\\\LauzHack\\\\lib\\\\site-packages\\\\sklearn\\\\linear_model\\\\_base.py'>),\n",
       " ('_bayes',\n",
       "  <module 'sklearn.linear_model._bayes' from 'c:\\\\Users\\\\nico9\\\\anaconda3\\\\envs\\\\LauzHack\\\\lib\\\\site-packages\\\\sklearn\\\\linear_model\\\\_bayes.py'>),\n",
       " ('_cd_fast',\n",
       "  <module 'sklearn.linear_model._cd_fast' from 'c:\\\\Users\\\\nico9\\\\anaconda3\\\\envs\\\\LauzHack\\\\lib\\\\site-packages\\\\sklearn\\\\linear_model\\\\_cd_fast.cp39-win_amd64.pyd'>),\n",
       " ('_coordinate_descent',\n",
       "  <module 'sklearn.linear_model._coordinate_descent' from 'c:\\\\Users\\\\nico9\\\\anaconda3\\\\envs\\\\LauzHack\\\\lib\\\\site-packages\\\\sklearn\\\\linear_model\\\\_coordinate_descent.py'>),\n",
       " ('_glm',\n",
       "  <module 'sklearn.linear_model._glm' from 'c:\\\\Users\\\\nico9\\\\anaconda3\\\\envs\\\\LauzHack\\\\lib\\\\site-packages\\\\sklearn\\\\linear_model\\\\_glm\\\\__init__.py'>),\n",
       " ('_huber',\n",
       "  <module 'sklearn.linear_model._huber' from 'c:\\\\Users\\\\nico9\\\\anaconda3\\\\envs\\\\LauzHack\\\\lib\\\\site-packages\\\\sklearn\\\\linear_model\\\\_huber.py'>),\n",
       " ('_least_angle',\n",
       "  <module 'sklearn.linear_model._least_angle' from 'c:\\\\Users\\\\nico9\\\\anaconda3\\\\envs\\\\LauzHack\\\\lib\\\\site-packages\\\\sklearn\\\\linear_model\\\\_least_angle.py'>),\n",
       " ('_linear_loss',\n",
       "  <module 'sklearn.linear_model._linear_loss' from 'c:\\\\Users\\\\nico9\\\\anaconda3\\\\envs\\\\LauzHack\\\\lib\\\\site-packages\\\\sklearn\\\\linear_model\\\\_linear_loss.py'>),\n",
       " ('_logistic',\n",
       "  <module 'sklearn.linear_model._logistic' from 'c:\\\\Users\\\\nico9\\\\anaconda3\\\\envs\\\\LauzHack\\\\lib\\\\site-packages\\\\sklearn\\\\linear_model\\\\_logistic.py'>),\n",
       " ('_omp',\n",
       "  <module 'sklearn.linear_model._omp' from 'c:\\\\Users\\\\nico9\\\\anaconda3\\\\envs\\\\LauzHack\\\\lib\\\\site-packages\\\\sklearn\\\\linear_model\\\\_omp.py'>),\n",
       " ('_passive_aggressive',\n",
       "  <module 'sklearn.linear_model._passive_aggressive' from 'c:\\\\Users\\\\nico9\\\\anaconda3\\\\envs\\\\LauzHack\\\\lib\\\\site-packages\\\\sklearn\\\\linear_model\\\\_passive_aggressive.py'>),\n",
       " ('_perceptron',\n",
       "  <module 'sklearn.linear_model._perceptron' from 'c:\\\\Users\\\\nico9\\\\anaconda3\\\\envs\\\\LauzHack\\\\lib\\\\site-packages\\\\sklearn\\\\linear_model\\\\_perceptron.py'>),\n",
       " ('_quantile',\n",
       "  <module 'sklearn.linear_model._quantile' from 'c:\\\\Users\\\\nico9\\\\anaconda3\\\\envs\\\\LauzHack\\\\lib\\\\site-packages\\\\sklearn\\\\linear_model\\\\_quantile.py'>),\n",
       " ('_ransac',\n",
       "  <module 'sklearn.linear_model._ransac' from 'c:\\\\Users\\\\nico9\\\\anaconda3\\\\envs\\\\LauzHack\\\\lib\\\\site-packages\\\\sklearn\\\\linear_model\\\\_ransac.py'>),\n",
       " ('_ridge',\n",
       "  <module 'sklearn.linear_model._ridge' from 'c:\\\\Users\\\\nico9\\\\anaconda3\\\\envs\\\\LauzHack\\\\lib\\\\site-packages\\\\sklearn\\\\linear_model\\\\_ridge.py'>),\n",
       " ('_sag',\n",
       "  <module 'sklearn.linear_model._sag' from 'c:\\\\Users\\\\nico9\\\\anaconda3\\\\envs\\\\LauzHack\\\\lib\\\\site-packages\\\\sklearn\\\\linear_model\\\\_sag.py'>),\n",
       " ('_sag_fast',\n",
       "  <module 'sklearn.linear_model._sag_fast' from 'c:\\\\Users\\\\nico9\\\\anaconda3\\\\envs\\\\LauzHack\\\\lib\\\\site-packages\\\\sklearn\\\\linear_model\\\\_sag_fast.cp39-win_amd64.pyd'>),\n",
       " ('_sgd_fast',\n",
       "  <module 'sklearn.linear_model._sgd_fast' from 'c:\\\\Users\\\\nico9\\\\anaconda3\\\\envs\\\\LauzHack\\\\lib\\\\site-packages\\\\sklearn\\\\linear_model\\\\_sgd_fast.cp39-win_amd64.pyd'>),\n",
       " ('_stochastic_gradient',\n",
       "  <module 'sklearn.linear_model._stochastic_gradient' from 'c:\\\\Users\\\\nico9\\\\anaconda3\\\\envs\\\\LauzHack\\\\lib\\\\site-packages\\\\sklearn\\\\linear_model\\\\_stochastic_gradient.py'>),\n",
       " ('_theil_sen',\n",
       "  <module 'sklearn.linear_model._theil_sen' from 'c:\\\\Users\\\\nico9\\\\anaconda3\\\\envs\\\\LauzHack\\\\lib\\\\site-packages\\\\sklearn\\\\linear_model\\\\_theil_sen.py'>),\n",
       " ('enet_path',\n",
       "  <function sklearn.linear_model._coordinate_descent.enet_path(X, y, *, l1_ratio=0.5, eps=0.001, n_alphas=100, alphas=None, precompute='auto', Xy=None, copy_X=True, coef_init=None, verbose=False, return_n_iter=False, positive=False, check_input=True, **params)>),\n",
       " ('lars_path',\n",
       "  <function sklearn.linear_model._least_angle.lars_path(X, y, Xy=None, *, Gram=None, max_iter=500, alpha_min=0, method='lar', copy_X=True, eps=2.220446049250313e-16, copy_Gram=True, verbose=0, return_path=True, return_n_iter=False, positive=False)>),\n",
       " ('lars_path_gram',\n",
       "  <function sklearn.linear_model._least_angle.lars_path_gram(Xy, Gram, *, n_samples, max_iter=500, alpha_min=0, method='lar', copy_X=True, eps=2.220446049250313e-16, copy_Gram=True, verbose=0, return_path=True, return_n_iter=False, positive=False)>),\n",
       " ('lasso_path',\n",
       "  <function sklearn.linear_model._coordinate_descent.lasso_path(X, y, *, eps=0.001, n_alphas=100, alphas=None, precompute='auto', Xy=None, copy_X=True, coef_init=None, verbose=False, return_n_iter=False, positive=False, **params)>),\n",
       " ('orthogonal_mp',\n",
       "  <function sklearn.linear_model._omp.orthogonal_mp(X, y, *, n_nonzero_coefs=None, tol=None, precompute=False, copy_X=True, return_path=False, return_n_iter=False)>),\n",
       " ('orthogonal_mp_gram',\n",
       "  <function sklearn.linear_model._omp.orthogonal_mp_gram(Gram, Xy, *, n_nonzero_coefs=None, tol=None, norms_squared=None, copy_Gram=True, copy_Xy=True, return_path=False, return_n_iter=False)>),\n",
       " ('ridge_regression',\n",
       "  <function sklearn.linear_model._ridge.ridge_regression(X, y, alpha, *, sample_weight=None, solver='auto', max_iter=None, tol=0.001, verbose=0, positive=False, random_state=None, return_n_iter=False, return_intercept=False, check_input=True)>)]"
      ]
     },
     "execution_count": 29,
     "metadata": {},
     "output_type": "execute_result"
    }
   ],
   "source": [
    "getmembers(skl)"
   ]
  },
  {
   "cell_type": "code",
   "execution_count": 36,
   "metadata": {},
   "outputs": [],
   "source": [
    "a = (getmembers(skl)[1][1])().fit(X,y)"
   ]
  },
  {
   "cell_type": "code",
   "execution_count": 39,
   "metadata": {},
   "outputs": [
    {
     "data": {
      "text/plain": [
       "79"
      ]
     },
     "execution_count": 39,
     "metadata": {},
     "output_type": "execute_result"
    }
   ],
   "source": [
    "len(getmembers(skl))"
   ]
  },
  {
   "cell_type": "code",
   "execution_count": 6,
   "metadata": {},
   "outputs": [],
   "source": [
    "import time"
   ]
  },
  {
   "cell_type": "code",
   "execution_count": 7,
   "metadata": {},
   "outputs": [
    {
     "name": "stdout",
     "output_type": "stream",
     "text": [
      "0\n",
      "1\n",
      "2\n",
      "3\n",
      "4\n",
      "5\n",
      "6\n",
      "7\n",
      "8\n"
     ]
    },
    {
     "name": "stderr",
     "output_type": "stream",
     "text": [
      "c:\\Users\\nico9\\anaconda3\\envs\\LauzHack\\lib\\site-packages\\sklearn\\linear_model\\_base.py:133: FutureWarning: The default of 'normalize' will be set to False in version 1.2 and deprecated in version 1.4.\n",
      "If you wish to scale the data, use Pipeline with a StandardScaler in a preprocessing stage. To reproduce the previous behavior:\n",
      "\n",
      "from sklearn.pipeline import make_pipeline\n",
      "\n",
      "model = make_pipeline(StandardScaler(with_mean=False), Lars())\n",
      "\n",
      "If you wish to pass a sample_weight parameter, you need to pass it as a fit parameter to each step of the pipeline as follows:\n",
      "\n",
      "kwargs = {s[0] + '__sample_weight': sample_weight for s in model.steps}\n",
      "model.fit(X, y, **kwargs)\n",
      "\n",
      "\n",
      "  warnings.warn(\n"
     ]
    },
    {
     "name": "stdout",
     "output_type": "stream",
     "text": [
      "9\n"
     ]
    },
    {
     "name": "stderr",
     "output_type": "stream",
     "text": [
      "c:\\Users\\nico9\\anaconda3\\envs\\LauzHack\\lib\\site-packages\\sklearn\\linear_model\\_base.py:133: FutureWarning: The default of 'normalize' will be set to False in version 1.2 and deprecated in version 1.4.\n",
      "If you wish to scale the data, use Pipeline with a StandardScaler in a preprocessing stage. To reproduce the previous behavior:\n",
      "\n",
      "from sklearn.pipeline import make_pipeline\n",
      "\n",
      "model = make_pipeline(StandardScaler(with_mean=False), LarsCV())\n",
      "\n",
      "If you wish to pass a sample_weight parameter, you need to pass it as a fit parameter to each step of the pipeline as follows:\n",
      "\n",
      "kwargs = {s[0] + '__sample_weight': sample_weight for s in model.steps}\n",
      "model.fit(X, y, **kwargs)\n",
      "\n",
      "\n",
      "  warnings.warn(\n"
     ]
    },
    {
     "name": "stdout",
     "output_type": "stream",
     "text": [
      "10\n",
      "11\n",
      "12\n"
     ]
    },
    {
     "name": "stderr",
     "output_type": "stream",
     "text": [
      "c:\\Users\\nico9\\anaconda3\\envs\\LauzHack\\lib\\site-packages\\sklearn\\linear_model\\_base.py:133: FutureWarning: The default of 'normalize' will be set to False in version 1.2 and deprecated in version 1.4.\n",
      "If you wish to scale the data, use Pipeline with a StandardScaler in a preprocessing stage. To reproduce the previous behavior:\n",
      "\n",
      "from sklearn.pipeline import make_pipeline\n",
      "\n",
      "model = make_pipeline(StandardScaler(with_mean=False), LassoLars())\n",
      "\n",
      "If you wish to pass a sample_weight parameter, you need to pass it as a fit parameter to each step of the pipeline as follows:\n",
      "\n",
      "kwargs = {s[0] + '__sample_weight': sample_weight for s in model.steps}\n",
      "model.fit(X, y, **kwargs)\n",
      "\n",
      "Set parameter alpha to: original_alpha * np.sqrt(n_samples). \n",
      "  warnings.warn(\n"
     ]
    },
    {
     "name": "stdout",
     "output_type": "stream",
     "text": [
      "13\n"
     ]
    },
    {
     "name": "stderr",
     "output_type": "stream",
     "text": [
      "c:\\Users\\nico9\\anaconda3\\envs\\LauzHack\\lib\\site-packages\\sklearn\\linear_model\\_base.py:133: FutureWarning: The default of 'normalize' will be set to False in version 1.2 and deprecated in version 1.4.\n",
      "If you wish to scale the data, use Pipeline with a StandardScaler in a preprocessing stage. To reproduce the previous behavior:\n",
      "\n",
      "from sklearn.pipeline import make_pipeline\n",
      "\n",
      "model = make_pipeline(StandardScaler(with_mean=False), LassoLarsCV())\n",
      "\n",
      "If you wish to pass a sample_weight parameter, you need to pass it as a fit parameter to each step of the pipeline as follows:\n",
      "\n",
      "kwargs = {s[0] + '__sample_weight': sample_weight for s in model.steps}\n",
      "model.fit(X, y, **kwargs)\n",
      "\n",
      "Set parameter alpha to: original_alpha * np.sqrt(n_samples). \n",
      "  warnings.warn(\n"
     ]
    },
    {
     "name": "stdout",
     "output_type": "stream",
     "text": [
      "14\n"
     ]
    },
    {
     "name": "stderr",
     "output_type": "stream",
     "text": [
      "c:\\Users\\nico9\\anaconda3\\envs\\LauzHack\\lib\\site-packages\\sklearn\\linear_model\\_base.py:133: FutureWarning: The default of 'normalize' will be set to False in version 1.2 and deprecated in version 1.4.\n",
      "If you wish to scale the data, use Pipeline with a StandardScaler in a preprocessing stage. To reproduce the previous behavior:\n",
      "\n",
      "from sklearn.pipeline import make_pipeline\n",
      "\n",
      "model = make_pipeline(StandardScaler(with_mean=False), LassoLarsIC())\n",
      "\n",
      "If you wish to pass a sample_weight parameter, you need to pass it as a fit parameter to each step of the pipeline as follows:\n",
      "\n",
      "kwargs = {s[0] + '__sample_weight': sample_weight for s in model.steps}\n",
      "model.fit(X, y, **kwargs)\n",
      "\n",
      "Set parameter alpha to: original_alpha * np.sqrt(n_samples). \n",
      "  warnings.warn(\n"
     ]
    },
    {
     "name": "stdout",
     "output_type": "stream",
     "text": [
      "15\n",
      "16\n",
      "17\n",
      "18\n",
      "19\n",
      "20\n",
      "21\n",
      "22\n",
      "23\n",
      "24\n"
     ]
    },
    {
     "name": "stderr",
     "output_type": "stream",
     "text": [
      "c:\\Users\\nico9\\anaconda3\\envs\\LauzHack\\lib\\site-packages\\sklearn\\linear_model\\_base.py:133: FutureWarning: The default of 'normalize' will be set to False in version 1.2 and deprecated in version 1.4.\n",
      "If you wish to scale the data, use Pipeline with a StandardScaler in a preprocessing stage. To reproduce the previous behavior:\n",
      "\n",
      "from sklearn.pipeline import make_pipeline\n",
      "\n",
      "model = make_pipeline(StandardScaler(with_mean=False), OrthogonalMatchingPursuit())\n",
      "\n",
      "If you wish to pass a sample_weight parameter, you need to pass it as a fit parameter to each step of the pipeline as follows:\n",
      "\n",
      "kwargs = {s[0] + '__sample_weight': sample_weight for s in model.steps}\n",
      "model.fit(X, y, **kwargs)\n",
      "\n",
      "\n",
      "  warnings.warn(\n"
     ]
    },
    {
     "name": "stdout",
     "output_type": "stream",
     "text": [
      "25\n"
     ]
    },
    {
     "name": "stderr",
     "output_type": "stream",
     "text": [
      "c:\\Users\\nico9\\anaconda3\\envs\\LauzHack\\lib\\site-packages\\sklearn\\linear_model\\_base.py:133: FutureWarning: The default of 'normalize' will be set to False in version 1.2 and deprecated in version 1.4.\n",
      "If you wish to scale the data, use Pipeline with a StandardScaler in a preprocessing stage. To reproduce the previous behavior:\n",
      "\n",
      "from sklearn.pipeline import make_pipeline\n",
      "\n",
      "model = make_pipeline(StandardScaler(with_mean=False), OrthogonalMatchingPursuitCV())\n",
      "\n",
      "If you wish to pass a sample_weight parameter, you need to pass it as a fit parameter to each step of the pipeline as follows:\n",
      "\n",
      "kwargs = {s[0] + '__sample_weight': sample_weight for s in model.steps}\n",
      "model.fit(X, y, **kwargs)\n",
      "\n",
      "\n",
      "  warnings.warn(\n"
     ]
    },
    {
     "name": "stdout",
     "output_type": "stream",
     "text": [
      "26\n",
      "27\n",
      "28\n",
      "29\n",
      "30\n",
      "31\n",
      "32\n",
      "33\n",
      "34\n",
      "35\n",
      "36\n",
      "37\n",
      "38\n",
      "39\n",
      "40\n"
     ]
    }
   ],
   "source": [
    "for (i,f) in enumerate(getmembers(skl)):\n",
    "    print(i)\n",
    "    try:\n",
    "        f[1]().fit(X,y)\n",
    "        time.sleep(2)\n",
    "    except:\n",
    "        pass"
   ]
  },
  {
   "cell_type": "code",
   "execution_count": null,
   "metadata": {},
   "outputs": [],
   "source": [
    "\n",
    "X = np.random.randn(10000, 5000)\n",
    "y = np.random.randn(10000)\n",
    "for i in range(10):\n",
    "    for j in range(10):\n",
    "\n",
    "        reg = LinearRegression().fit(X, y)\n",
    "\n",
    "reg = LinearRegression().fit(X, y)\n"
   ]
  },
  {
   "cell_type": "code",
   "execution_count": null,
   "metadata": {},
   "outputs": [],
   "source": [
    "np.random.seed(42)"
   ]
  },
  {
   "cell_type": "code",
   "execution_count": 16,
   "metadata": {},
   "outputs": [],
   "source": [
    "reg = LinearRegression().fit(X, y)"
   ]
  },
  {
   "cell_type": "markdown",
   "metadata": {},
   "source": [
    "Model can be linear (ridge, lasso, poly,)  maybe later (randmomforest, xgboost)"
   ]
  },
  {
   "cell_type": "code",
   "execution_count": 17,
   "metadata": {},
   "outputs": [
    {
     "data": {
      "text/html": [
       "<div>\n",
       "<style scoped>\n",
       "    .dataframe tbody tr th:only-of-type {\n",
       "        vertical-align: middle;\n",
       "    }\n",
       "\n",
       "    .dataframe tbody tr th {\n",
       "        vertical-align: top;\n",
       "    }\n",
       "\n",
       "    .dataframe thead th {\n",
       "        text-align: right;\n",
       "    }\n",
       "</style>\n",
       "<table border=\"1\" class=\"dataframe\">\n",
       "  <thead>\n",
       "    <tr style=\"text-align: right;\">\n",
       "      <th></th>\n",
       "      <th>CPU</th>\n",
       "      <th>GPU</th>\n",
       "      <th>n_predictors</th>\n",
       "      <th>n_points</th>\n",
       "      <th>model</th>\n",
       "    </tr>\n",
       "  </thead>\n",
       "  <tbody>\n",
       "  </tbody>\n",
       "</table>\n",
       "</div>"
      ],
      "text/plain": [
       "Empty DataFrame\n",
       "Columns: [CPU, GPU, n_predictors, n_points, model]\n",
       "Index: []"
      ]
     },
     "execution_count": 17,
     "metadata": {},
     "output_type": "execute_result"
    }
   ],
   "source": [
    "tracker = EmissionsTracker()\n",
    "df_run_info = pd.DataFrame('n_predictors', 'n_points', 'model')\n",
    "\n",
    "\n",
    "\n",
    "tracker.start()\n",
    "LinearRegression.fit(X, y)\n",
    "tracker.stop()\n",
    "\n",
    "tracker.start()\n",
    "Lasso.fit(np.random.rand(rows,columns), y)\n",
    "tracker.stop()\n",
    "\n",
    "emissions = pd.read_csv(\"emissions.csv\")\n",
    "\n",
    "\n",
    "\n",
    "df = pd.DataFrame(columns=['CPU', 'GPU', 'n_predictors', 'n_points', 'model'])"
   ]
  },
  {
   "cell_type": "code",
   "execution_count": 19,
   "metadata": {},
   "outputs": [],
   "source": [
    "def linearmodelsrun(model, columns, rows):\n",
    "    model.fit(np.random.rand(rows,columns), y)\n",
    "    "
   ]
  },
  {
   "cell_type": "code",
   "execution_count": null,
   "metadata": {},
   "outputs": [],
   "source": []
  }
 ],
 "metadata": {
  "kernelspec": {
   "display_name": "Python 3.9.15 ('LauzHack')",
   "language": "python",
   "name": "python3"
  },
  "language_info": {
   "codemirror_mode": {
    "name": "ipython",
    "version": 3
   },
   "file_extension": ".py",
   "mimetype": "text/x-python",
   "name": "python",
   "nbconvert_exporter": "python",
   "pygments_lexer": "ipython3",
   "version": "3.9.15"
  },
  "orig_nbformat": 4,
  "vscode": {
   "interpreter": {
    "hash": "4ca27458cc1d390750e5423ef1960079992d7b60cb8352775fdb8e63e4432f84"
   }
  }
 },
 "nbformat": 4,
 "nbformat_minor": 2
}

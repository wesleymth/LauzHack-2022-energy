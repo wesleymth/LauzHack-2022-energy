{
 "cells": [
  {
   "cell_type": "code",
   "execution_count": 1,
   "metadata": {},
   "outputs": [],
   "source": [
    "from os.path import join\n",
    "\n",
    "import pandas as pd\n",
    "import seaborn as sns\n",
    "import plotly.express as px\n",
    "import matplotlib.pyplot as plt\n",
    "\n",
    "from data_processing import full_dataset_pipeline, convert_filepaths_to_df"
   ]
  },
  {
   "cell_type": "code",
   "execution_count": 2,
   "metadata": {},
   "outputs": [],
   "source": [
    "files = [\n",
    "    [join(\"data\", \"sub_dataset_energy07-57-54_nico.csv\"), join(\"data\",\"Model_features08-12-18_nico.csv\")],\n",
    "    [join(\"data\", \"sub_dataset_energy07-40-32_guillaume.csv\"), join(\"data\", \"Model_features08-15-31_guillaume.csv\")],\n",
    "    [join(\"data\", \"sub_dataset_energy07-26-12_emma.csv\"), join(\"data\", \"Model_features08-15-31_guillaume.csv\")],\n",
    "    [join(\"data\", \"sub_dataset_energy08-43-15_nico2.csv\"), join(\"data\", \"Model_features09-17-12_nico2.csv\")]\n",
    "]"
   ]
  },
  {
   "cell_type": "code",
   "execution_count": 3,
   "metadata": {},
   "outputs": [],
   "source": [
    "files = convert_filepaths_to_df(files)"
   ]
  },
  {
   "cell_type": "code",
   "execution_count": 4,
   "metadata": {},
   "outputs": [],
   "source": [
    "full_data = full_dataset_pipeline(files)"
   ]
  },
  {
   "cell_type": "code",
   "execution_count": 5,
   "metadata": {},
   "outputs": [
    {
     "data": {
      "text/html": [
       "<div>\n",
       "<style scoped>\n",
       "    .dataframe tbody tr th:only-of-type {\n",
       "        vertical-align: middle;\n",
       "    }\n",
       "\n",
       "    .dataframe tbody tr th {\n",
       "        vertical-align: top;\n",
       "    }\n",
       "\n",
       "    .dataframe thead th {\n",
       "        text-align: right;\n",
       "    }\n",
       "</style>\n",
       "<table border=\"1\" class=\"dataframe\">\n",
       "  <thead>\n",
       "    <tr style=\"text-align: right;\">\n",
       "      <th></th>\n",
       "      <th>Unnamed: 0</th>\n",
       "      <th>CPU_count</th>\n",
       "      <th>name_CPU_vendor_id</th>\n",
       "      <th>CPU_GHz</th>\n",
       "      <th>name_core_architecture</th>\n",
       "      <th>name_os</th>\n",
       "      <th>name_model</th>\n",
       "      <th>nb_samples</th>\n",
       "      <th>nb_preds</th>\n",
       "      <th>energy_consumed</th>\n",
       "    </tr>\n",
       "  </thead>\n",
       "  <tbody>\n",
       "    <tr>\n",
       "      <th>0</th>\n",
       "      <td>0</td>\n",
       "      <td>12</td>\n",
       "      <td>GenuineIntel</td>\n",
       "      <td>2.6</td>\n",
       "      <td>AMD64</td>\n",
       "      <td>Windows</td>\n",
       "      <td>ARDRegression</td>\n",
       "      <td>20</td>\n",
       "      <td>20</td>\n",
       "      <td>8.515489e-07</td>\n",
       "    </tr>\n",
       "    <tr>\n",
       "      <th>1</th>\n",
       "      <td>1</td>\n",
       "      <td>12</td>\n",
       "      <td>GenuineIntel</td>\n",
       "      <td>2.6</td>\n",
       "      <td>AMD64</td>\n",
       "      <td>Windows</td>\n",
       "      <td>ARDRegression</td>\n",
       "      <td>500</td>\n",
       "      <td>20</td>\n",
       "      <td>3.209248e-07</td>\n",
       "    </tr>\n",
       "    <tr>\n",
       "      <th>2</th>\n",
       "      <td>2</td>\n",
       "      <td>12</td>\n",
       "      <td>GenuineIntel</td>\n",
       "      <td>2.6</td>\n",
       "      <td>AMD64</td>\n",
       "      <td>Windows</td>\n",
       "      <td>ARDRegression</td>\n",
       "      <td>500</td>\n",
       "      <td>500</td>\n",
       "      <td>1.650893e-05</td>\n",
       "    </tr>\n",
       "    <tr>\n",
       "      <th>3</th>\n",
       "      <td>3</td>\n",
       "      <td>12</td>\n",
       "      <td>GenuineIntel</td>\n",
       "      <td>2.6</td>\n",
       "      <td>AMD64</td>\n",
       "      <td>Windows</td>\n",
       "      <td>ARDRegression</td>\n",
       "      <td>2000</td>\n",
       "      <td>20</td>\n",
       "      <td>3.669459e-07</td>\n",
       "    </tr>\n",
       "    <tr>\n",
       "      <th>4</th>\n",
       "      <td>4</td>\n",
       "      <td>12</td>\n",
       "      <td>GenuineIntel</td>\n",
       "      <td>2.6</td>\n",
       "      <td>AMD64</td>\n",
       "      <td>Windows</td>\n",
       "      <td>ARDRegression</td>\n",
       "      <td>2000</td>\n",
       "      <td>500</td>\n",
       "      <td>3.534756e-06</td>\n",
       "    </tr>\n",
       "    <tr>\n",
       "      <th>...</th>\n",
       "      <td>...</td>\n",
       "      <td>...</td>\n",
       "      <td>...</td>\n",
       "      <td>...</td>\n",
       "      <td>...</td>\n",
       "      <td>...</td>\n",
       "      <td>...</td>\n",
       "      <td>...</td>\n",
       "      <td>...</td>\n",
       "      <td>...</td>\n",
       "    </tr>\n",
       "    <tr>\n",
       "      <th>705</th>\n",
       "      <td>173</td>\n",
       "      <td>12</td>\n",
       "      <td>GenuineIntel</td>\n",
       "      <td>2.6</td>\n",
       "      <td>AMD64</td>\n",
       "      <td>Windows</td>\n",
       "      <td>TweedieRegressor</td>\n",
       "      <td>500</td>\n",
       "      <td>20</td>\n",
       "      <td>6.640952e-07</td>\n",
       "    </tr>\n",
       "    <tr>\n",
       "      <th>706</th>\n",
       "      <td>174</td>\n",
       "      <td>12</td>\n",
       "      <td>GenuineIntel</td>\n",
       "      <td>2.6</td>\n",
       "      <td>AMD64</td>\n",
       "      <td>Windows</td>\n",
       "      <td>TweedieRegressor</td>\n",
       "      <td>500</td>\n",
       "      <td>500</td>\n",
       "      <td>6.692532e-07</td>\n",
       "    </tr>\n",
       "    <tr>\n",
       "      <th>707</th>\n",
       "      <td>175</td>\n",
       "      <td>12</td>\n",
       "      <td>GenuineIntel</td>\n",
       "      <td>2.6</td>\n",
       "      <td>AMD64</td>\n",
       "      <td>Windows</td>\n",
       "      <td>TweedieRegressor</td>\n",
       "      <td>2000</td>\n",
       "      <td>20</td>\n",
       "      <td>6.369508e-07</td>\n",
       "    </tr>\n",
       "    <tr>\n",
       "      <th>708</th>\n",
       "      <td>176</td>\n",
       "      <td>12</td>\n",
       "      <td>GenuineIntel</td>\n",
       "      <td>2.6</td>\n",
       "      <td>AMD64</td>\n",
       "      <td>Windows</td>\n",
       "      <td>TweedieRegressor</td>\n",
       "      <td>2000</td>\n",
       "      <td>500</td>\n",
       "      <td>6.886727e-07</td>\n",
       "    </tr>\n",
       "    <tr>\n",
       "      <th>709</th>\n",
       "      <td>177</td>\n",
       "      <td>12</td>\n",
       "      <td>GenuineIntel</td>\n",
       "      <td>2.6</td>\n",
       "      <td>AMD64</td>\n",
       "      <td>Windows</td>\n",
       "      <td>TweedieRegressor</td>\n",
       "      <td>2000</td>\n",
       "      <td>2000</td>\n",
       "      <td>9.219917e-07</td>\n",
       "    </tr>\n",
       "  </tbody>\n",
       "</table>\n",
       "<p>710 rows × 10 columns</p>\n",
       "</div>"
      ],
      "text/plain": [
       "     Unnamed: 0  CPU_count name_CPU_vendor_id  CPU_GHz name_core_architecture  \\\n",
       "0             0         12       GenuineIntel      2.6                  AMD64   \n",
       "1             1         12       GenuineIntel      2.6                  AMD64   \n",
       "2             2         12       GenuineIntel      2.6                  AMD64   \n",
       "3             3         12       GenuineIntel      2.6                  AMD64   \n",
       "4             4         12       GenuineIntel      2.6                  AMD64   \n",
       "..          ...        ...                ...      ...                    ...   \n",
       "705         173         12       GenuineIntel      2.6                  AMD64   \n",
       "706         174         12       GenuineIntel      2.6                  AMD64   \n",
       "707         175         12       GenuineIntel      2.6                  AMD64   \n",
       "708         176         12       GenuineIntel      2.6                  AMD64   \n",
       "709         177         12       GenuineIntel      2.6                  AMD64   \n",
       "\n",
       "     name_os        name_model  nb_samples  nb_preds  energy_consumed  \n",
       "0    Windows     ARDRegression          20        20     8.515489e-07  \n",
       "1    Windows     ARDRegression         500        20     3.209248e-07  \n",
       "2    Windows     ARDRegression         500       500     1.650893e-05  \n",
       "3    Windows     ARDRegression        2000        20     3.669459e-07  \n",
       "4    Windows     ARDRegression        2000       500     3.534756e-06  \n",
       "..       ...               ...         ...       ...              ...  \n",
       "705  Windows  TweedieRegressor         500        20     6.640952e-07  \n",
       "706  Windows  TweedieRegressor         500       500     6.692532e-07  \n",
       "707  Windows  TweedieRegressor        2000        20     6.369508e-07  \n",
       "708  Windows  TweedieRegressor        2000       500     6.886727e-07  \n",
       "709  Windows  TweedieRegressor        2000      2000     9.219917e-07  \n",
       "\n",
       "[710 rows x 10 columns]"
      ]
     },
     "execution_count": 5,
     "metadata": {},
     "output_type": "execute_result"
    }
   ],
   "source": [
    "full_data"
   ]
  },
  {
   "cell_type": "code",
   "execution_count": 19,
   "metadata": {},
   "outputs": [
    {
     "data": {
      "image/png": "[encoded data removed]",
      "text/plain": [
       "<Figure size 432x288 with 1 Axes>"
      ]
     },
     "metadata": {
      "needs_background": "light"
     },
     "output_type": "display_data"
    }
   ],
   "source": [
    "# Sizes versus energy, hue =name_model\n",
    "sns.lineplot(data=full_data, x=\"nb_samples\", y=\"energy_consumed\") # kW\n",
    "plt.title(\"Energy consumed in kWh in fucntion of number of data points\")\n",
    "plt.savefig(join(\"data\", \"img\", \"1.png\"), dpi=200)"
   ]
  },
  {
   "cell_type": "code",
   "execution_count": 20,
   "metadata": {},
   "outputs": [
    {
     "data": {
      "image/png": "[encoded data removed]",
      "text/plain": [
       "<Figure size 432x288 with 1 Axes>"
      ]
     },
     "metadata": {
      "needs_background": "light"
     },
     "output_type": "display_data"
    }
   ],
   "source": [
    "sns.lineplot(data=full_data, x=\"nb_preds\", y=\"energy_consumed\")\n",
    "plt.title(\"Energy consumed in kWh in fucntion of number of predictors\")\n",
    "plt.savefig(join(\"data\", \"img\", \"2.png\"), dpi=200)"
   ]
  },
  {
   "cell_type": "code",
   "execution_count": 21,
   "metadata": {},
   "outputs": [
    {
     "data": {
      "image/png": "[encoded data removed]",
      "text/plain": [
       "<Figure size 432x288 with 1 Axes>"
      ]
     },
     "metadata": {
      "needs_background": "light"
     },
     "output_type": "display_data"
    }
   ],
   "source": [
    "sns.lineplot(data=full_data, x=\"nb_preds\", y=\"energy_consumed\", hue=\"name_core_architecture\")\n",
    "plt.title(\"Energy consumed in kWh in fucntion of number of nb_preds\")\n",
    "plt.savefig(join(\"data\", \"img\", \"3.png\"), dpi=200)"
   ]
  },
  {
   "cell_type": "code",
   "execution_count": 22,
   "metadata": {},
   "outputs": [
    {
     "data": {
      "image/png": "[encoded data removed]",
      "text/plain": [
       "<Figure size 432x288 with 1 Axes>"
      ]
     },
     "metadata": {
      "needs_background": "light"
     },
     "output_type": "display_data"
    }
   ],
   "source": [
    "sns.lineplot(data=full_data, x=\"nb_samples\", y=\"energy_consumed\", hue=\"name_core_architecture\")\n",
    "plt.title(\"Energy consumed in kWh in fucntion of number of samples\")\n",
    "plt.savefig(join(\"data\", \"img\", \"4.png\"), dpi=200)"
   ]
  },
  {
   "cell_type": "code",
   "execution_count": 14,
   "metadata": {},
   "outputs": [
    {
     "data": {
      "application/vnd.plotly.v1+json": {
       "config": {
        "plotlyServerURL": "https://plot.ly"
       },
       "data": [
        {
         "hovertemplate": "name_model=ARDRegression<br>nb_samples=%{x}<br>nb_preds=%{y}<br>energy_consumed=%{z}<extra></extra>",
         "legendgroup": "ARDRegression",
         "marker": {
          "color": "#636efa",
          "symbol": "circle"
         },
         "mode": "markers",
         "name": "ARDRegression",
         "scene": "scene",
         "showlegend": true,
         "type": "scatter3d",
         "x": [
          20,
          500,
          500,
          2000,
          2000,
          2000,
          20,
          500,
          500,
          2000,
          2000,
          2000,
          20,
          500,
          500,
          2000,
          2000,
          2000,
          20,
          500,
          500,
          2000,
          2000,
          2000
         ],
         "y": [
          20,
          20,
          500,
          20,
          500,
          2000,
          20,
          20,
          500,
          20,
          500,
          2000,
          20,
          20,
          500,
          20,
          500,
          2000,
          20,
          20,
          500,
          20,
          500,
          2000
         ],
         "z": [
          8.515489339962822e-7,
          3.2092476481579185e-7,
          0.000016508927975154918,
          3.6694587217760946e-7,
          0.0000035347557315841004,
          0.00006615003488963915,
          1.0450304034683441e-7,
          6.310532840313736e-8,
          0.0000011223870107476357,
          6.45983512423656e-8,
          6.012398546934131e-7,
          0.000013100140071577499,
          0.000001102630464103487,
          3.8175717256687295e-7,
          0.00006355071890039577,
          6.986417891251392e-8,
          0.0000013867360451486483,
          0.00006667072510447272,
          6.321375820527585e-7,
          3.153629567951423e-7,
          0.000017583106307076878,
          3.4534025483463367e-7,
          0.000003818039368064601,
          0.00006976674159836011
         ]
        },
        {
         "hovertemplate": "name_model=BayesianRidge<br>nb_samples=%{x}<br>nb_preds=%{y}<br>energy_consumed=%{z}<extra></extra>",
         "legendgroup": "BayesianRidge",
         "marker": {
          "color": "#EF553B",
          "symbol": "circle"
         },
         "mode": "markers",
         "name": "BayesianRidge",
         "scene": "scene",
         "showlegend": true,
         "type": "scatter3d",
         "x": [
          20,
          500,
          500,
          2000,
          2000,
          2000,
          20,
          500,
          500,
          2000,
          2000,
          2000,
          20,
          500,
          500,
          2000,
          2000,
          2000,
          20,
          500,
          500,
          2000,
          2000,
          2000
         ],
         "y": [
          20,
          20,
          500,
          20,
          500,
          2000,
          20,
          20,
          500,
          20,
          500,
          2000,
          20,
          20,
          500,
          20,
          500,
          2000,
          20,
          20,
          500,
          20,
          500,
          2000
         ],
         "z": [
          4.119594298852635e-7,
          4.1193539933281323e-7,
          0.0000025746505164153042,
          3.9210072862115564e-7,
          0.0000041265403957437994,
          0.00004189412828353382,
          6.182827961665499e-8,
          6.371346160769737e-8,
          2.7219604322755525e-7,
          7.150680959224512e-8,
          4.511401972947317e-7,
          0.000012975449408226552,
          9.901154559999333e-8,
          1.0793314819999107e-7,
          0.000034683422931000015,
          0.0000017559236521999847,
          0.000026828432015900004,
          0.0000988591585036,
          4.3177883260228883e-7,
          3.3332075018328855e-7,
          0.000002590293236376384,
          3.9429015025879634e-7,
          0.00000419482353039513,
          0.00004407292030259999
         ]
        },
        {
         "hovertemplate": "name_model=ElasticNet<br>nb_samples=%{x}<br>nb_preds=%{y}<br>energy_consumed=%{z}<extra></extra>",
         "legendgroup": "ElasticNet",
         "marker": {
          "color": "#00cc96",
          "symbol": "circle"
         },
         "mode": "markers",
         "name": "ElasticNet",
         "scene": "scene",
         "showlegend": true,
         "type": "scatter3d",
         "x": [
          20,
          500,
          500,
          2000,
          2000,
          2000,
          20,
          500,
          500,
          2000,
          2000,
          2000,
          20,
          500,
          500,
          2000,
          2000,
          2000,
          20,
          500,
          500,
          2000,
          2000,
          2000
         ],
         "y": [
          20,
          20,
          500,
          20,
          500,
          2000,
          20,
          20,
          500,
          20,
          500,
          2000,
          20,
          20,
          500,
          20,
          500,
          2000,
          20,
          20,
          500,
          20,
          500,
          2000
         ],
         "z": [
          3.568674383000036e-7,
          3.4646261510000876e-7,
          3.20076138599979e-7,
          2.851742595000198e-7,
          4.0196764579999295e-7,
          7.18907676100001e-7,
          5.076975985257053e-8,
          4.610514616524861e-8,
          6.630763339775201e-8,
          8.77524449979828e-8,
          1.3793353748542525e-7,
          3.4210597945584037e-7,
          2.1362270210000022e-7,
          8.065270999999376e-8,
          8.074146830001992e-8,
          1.1003362589996754e-7,
          1.8632778330001558e-7,
          4.7297230000001213e-7,
          4.136626617999963e-7,
          4.0259125640000094e-7,
          3.1991032949999485e-7,
          2.920150339000044e-7,
          3.900104672000112e-7,
          7.231636132999913e-7
         ]
        },
        {
         "hovertemplate": "name_model=ElasticNetCV<br>nb_samples=%{x}<br>nb_preds=%{y}<br>energy_consumed=%{z}<extra></extra>",
         "legendgroup": "ElasticNetCV",
         "marker": {
          "color": "#ab63fa",
          "symbol": "circle"
         },
         "mode": "markers",
         "name": "ElasticNetCV",
         "scene": "scene",
         "showlegend": true,
         "type": "scatter3d",
         "x": [
          20,
          500,
          500,
          2000,
          2000,
          20,
          500,
          500,
          2000,
          2000,
          2000,
          20,
          500,
          500,
          2000,
          2000,
          2000,
          20,
          500,
          500,
          2000,
          2000,
          2000
         ],
         "y": [
          20,
          20,
          500,
          20,
          500,
          20,
          20,
          500,
          20,
          500,
          2000,
          20,
          20,
          500,
          20,
          500,
          2000,
          20,
          20,
          500,
          20,
          500,
          2000
         ],
         "z": [
          6.474793575000058e-7,
          8.268108415999942e-7,
          0.00014287963562529998,
          8.007287793000023e-7,
          0.000005512200504700026,
          2.2611185198028832e-7,
          2.545233075265553e-7,
          0.0000361157713893663,
          2.6139389830054957e-7,
          0.000001921400573297796,
          0.0011424069416766972,
          2.8116835939996816e-7,
          2.852870365000252e-7,
          0.000064103012497,
          2.3636082480002702e-7,
          0.0000037828760480999738,
          0.0007877398805412999,
          6.176719154000121e-7,
          7.136670782000021e-7,
          0.0001508822520342,
          9.770399001999934e-7,
          0.000005934557414399985,
          0.002068382857592
         ]
        },
        {
         "hovertemplate": "name_model=HuberRegressor<br>nb_samples=%{x}<br>nb_preds=%{y}<br>energy_consumed=%{z}<extra></extra>",
         "legendgroup": "HuberRegressor",
         "marker": {
          "color": "#FFA15A",
          "symbol": "circle"
         },
         "mode": "markers",
         "name": "HuberRegressor",
         "scene": "scene",
         "showlegend": true,
         "type": "scatter3d",
         "x": [
          20,
          500,
          500,
          2000,
          2000,
          2000,
          20,
          500,
          500,
          2000,
          2000,
          2000,
          20,
          500,
          500,
          2000,
          2000,
          2000,
          20,
          500,
          500,
          2000,
          2000,
          2000
         ],
         "y": [
          20,
          20,
          500,
          20,
          500,
          2000,
          20,
          20,
          500,
          20,
          500,
          2000,
          20,
          20,
          500,
          20,
          500,
          2000,
          20,
          20,
          500,
          20,
          500,
          2000
         ],
         "z": [
          0.0016478038403292,
          3.8839859839998395e-7,
          0.0000017504213961001044,
          4.59282882599903e-7,
          0.0000016320809094999122,
          0.000017902347352199933,
          2.1252324640006967e-7,
          7.363902979995278e-8,
          3.5901038180014347e-7,
          7.844379129985993e-8,
          3.10732410599944e-7,
          0.000005618144958900121,
          5.073970379000214e-7,
          7.75842405001826e-8,
          8.590602974998217e-7,
          0.000003166518025700003,
          0.000010717950664000143,
          0.00004000524595799992,
          4.629636116996669e-7,
          2.9965408260019394e-7,
          0.0000013540246172000572,
          4.1013186079979017e-7,
          0.0000013038766690002222,
          0.000015113654619900146
         ]
        },
        {
         "hovertemplate": "name_model=Lars<br>nb_samples=%{x}<br>nb_preds=%{y}<br>energy_consumed=%{z}<extra></extra>",
         "legendgroup": "Lars",
         "marker": {
          "color": "#19d3f3",
          "symbol": "circle"
         },
         "mode": "markers",
         "name": "Lars",
         "scene": "scene",
         "showlegend": true,
         "type": "scatter3d",
         "x": [
          20,
          500,
          500,
          2000,
          2000,
          2000,
          20,
          500,
          500,
          2000,
          2000,
          2000,
          20,
          500,
          500,
          2000,
          2000,
          2000,
          20,
          500,
          500,
          2000,
          2000,
          2000
         ],
         "y": [
          20,
          20,
          500,
          20,
          500,
          2000,
          20,
          20,
          500,
          20,
          500,
          2000,
          20,
          20,
          500,
          20,
          500,
          2000,
          20,
          20,
          500,
          20,
          500,
          2000
         ],
         "z": [
          5.411500033003155e-7,
          5.714997156998011e-7,
          0.000002502702084600239,
          4.320990819998462e-7,
          0.0000037189446965000574,
          0.000009604916255900008,
          1.0342852449995131e-7,
          7.84335461999526e-8,
          9.36864702600097e-7,
          7.936196569986904e-8,
          0.000001156089868700142,
          0.000005396583855900002,
          5.657178973000974e-7,
          3.626749394000043e-7,
          0.000020235278242599925,
          3.725405744998793e-7,
          0.000027869895168900188,
          0.00007502505446839989,
          3.6575367149977583e-7,
          3.687869394000849e-7,
          0.0000020278596570997773,
          3.384265259000034e-7,
          0.0000028417773668999724,
          0.000007900798295700298
         ]
        },
        {
         "hovertemplate": "name_model=LarsCV<br>nb_samples=%{x}<br>nb_preds=%{y}<br>energy_consumed=%{z}<extra></extra>",
         "legendgroup": "LarsCV",
         "marker": {
          "color": "#FF6692",
          "symbol": "circle"
         },
         "mode": "markers",
         "name": "LarsCV",
         "scene": "scene",
         "showlegend": true,
         "type": "scatter3d",
         "x": [
          20,
          500,
          500,
          2000,
          2000,
          2000,
          20,
          500,
          500,
          2000,
          2000,
          2000,
          20,
          500,
          500,
          2000,
          2000,
          2000,
          20,
          500,
          500,
          2000,
          2000,
          2000
         ],
         "y": [
          20,
          20,
          500,
          20,
          500,
          2000,
          20,
          20,
          500,
          20,
          500,
          2000,
          20,
          20,
          500,
          20,
          500,
          2000,
          20,
          20,
          500,
          20,
          500,
          2000
         ],
         "z": [
          6.563128413000947e-7,
          5.905279039999933e-7,
          0.000022499639943099857,
          5.388272312999674e-7,
          0.00001717738455790001,
          0.000491308996437,
          1.3890566090001173e-7,
          1.6528962429990766e-7,
          0.000004741945294499958,
          1.6563600030005537e-7,
          0.000010058736500499982,
          0.00014920773558100013,
          3.8404968049992293e-7,
          7.911056806001078e-7,
          0.00003573821900530001,
          2.7682443249992493e-7,
          0.00014480482298100008,
          0.00023728513386330006,
          4.736084736997777e-7,
          4.455331120002508e-7,
          0.000016410839760599722,
          5.007978376003058e-7,
          0.000015961414727999872,
          0.0004826365674301999
         ]
        },
        {
         "hovertemplate": "name_model=Lasso<br>nb_samples=%{x}<br>nb_preds=%{y}<br>energy_consumed=%{z}<extra></extra>",
         "legendgroup": "Lasso",
         "marker": {
          "color": "#B6E880",
          "symbol": "circle"
         },
         "mode": "markers",
         "name": "Lasso",
         "scene": "scene",
         "showlegend": true,
         "type": "scatter3d",
         "x": [
          20,
          500,
          500,
          2000,
          2000,
          2000,
          20,
          500,
          500,
          2000,
          2000,
          2000,
          20,
          500,
          500,
          2000,
          2000,
          2000,
          20,
          500,
          500,
          2000,
          2000,
          2000
         ],
         "y": [
          20,
          20,
          500,
          20,
          500,
          2000,
          20,
          20,
          500,
          20,
          500,
          2000,
          20,
          20,
          500,
          20,
          500,
          2000,
          20,
          20,
          500,
          20,
          500,
          2000
         ],
         "z": [
          4.794754184999847e-7,
          3.9193928760014943e-7,
          3.445817837997335e-7,
          3.232461535003506e-7,
          4.4345409929997387e-7,
          7.247708215998155e-7,
          5.412642029999255e-8,
          5.281069709989726e-8,
          6.972705080010057e-8,
          6.51117153999993e-8,
          1.2151757979982775e-7,
          3.0660314260014775e-7,
          1.2010912299985355e-7,
          7.348657390005182e-8,
          2.082090109999362e-7,
          1.8005395710008788e-7,
          4.5403287600009196e-7,
          0.0000017737684180998189,
          3.8132275090004344e-7,
          4.1101645090017846e-7,
          3.219015496996533e-7,
          2.8594534040018646e-7,
          4.2882037759985406e-7,
          7.757314000001944e-7
         ]
        },
        {
         "hovertemplate": "name_model=LassoCV<br>nb_samples=%{x}<br>nb_preds=%{y}<br>energy_consumed=%{z}<extra></extra>",
         "legendgroup": "LassoCV",
         "marker": {
          "color": "#FF97FF",
          "symbol": "circle"
         },
         "mode": "markers",
         "name": "LassoCV",
         "scene": "scene",
         "showlegend": true,
         "type": "scatter3d",
         "x": [
          20,
          500,
          500,
          2000,
          2000,
          20,
          500,
          500,
          2000,
          2000,
          2000,
          20,
          500,
          500,
          2000,
          2000,
          2000,
          20,
          500,
          500,
          2000,
          2000,
          2000
         ],
         "y": [
          20,
          20,
          500,
          20,
          500,
          20,
          20,
          500,
          20,
          500,
          2000,
          20,
          20,
          500,
          20,
          500,
          2000,
          20,
          20,
          500,
          20,
          500,
          2000
         ],
         "z": [
          6.95387732699889e-7,
          8.781849838001426e-7,
          0.00018262232496199992,
          8.389424944999467e-7,
          0.000005358965067500318,
          2.0556803889985528e-7,
          2.3485298889999728e-7,
          0.0000366853276069,
          2.696118108001626e-7,
          0.0000017714950608998473,
          0.001178499361638,
          9.640403619999832e-7,
          6.085017804000319e-7,
          0.00007727637540059997,
          2.391697588000844e-7,
          0.000010152710432599936,
          0.0019484203807234003,
          6.501257992998395e-7,
          7.517537639000448e-7,
          0.00018108016414380024,
          8.153068843000204e-7,
          0.000005056795935899899,
          0.0022690900629307995
         ]
        },
        {
         "hovertemplate": "name_model=LassoLars<br>nb_samples=%{x}<br>nb_preds=%{y}<br>energy_consumed=%{z}<extra></extra>",
         "legendgroup": "LassoLars",
         "marker": {
          "color": "#FECB52",
          "symbol": "circle"
         },
         "mode": "markers",
         "name": "LassoLars",
         "scene": "scene",
         "showlegend": true,
         "type": "scatter3d",
         "x": [
          20,
          500,
          500,
          2000,
          2000,
          2000,
          20,
          500,
          500,
          2000,
          2000,
          2000,
          20,
          500,
          500,
          2000,
          2000,
          2000,
          20,
          500,
          500,
          2000,
          2000,
          2000
         ],
         "y": [
          20,
          20,
          500,
          20,
          500,
          2000,
          20,
          20,
          500,
          20,
          500,
          2000,
          20,
          20,
          500,
          20,
          500,
          2000,
          20,
          20,
          500,
          20,
          500,
          2000
         ],
         "z": [
          0.0002459964926053997,
          4.00798035900176e-7,
          4.854606998000791e-7,
          4.24587627299855e-7,
          6.031668393999962e-7,
          0.0000012283370664002181,
          5.9440475399814147e-8,
          7.232123020025835e-8,
          1.0101901390001042e-7,
          8.111108190005448e-8,
          1.565379587997566e-7,
          4.1978592579990093e-7,
          1.2698428419975066e-7,
          5.225448060017235e-8,
          1.6228830920003018e-7,
          7.204248339987701e-8,
          3.2479663249988106e-7,
          5.013608270999434e-7,
          2.6468308680048513e-7,
          2.736472441994958e-7,
          3.5579758080050983e-7,
          2.999526470997063e-7,
          5.368333530998345e-7,
          0.000001058459033300048
         ]
        },
        {
         "hovertemplate": "name_model=LassoLarsCV<br>nb_samples=%{x}<br>nb_preds=%{y}<br>energy_consumed=%{z}<extra></extra>",
         "legendgroup": "LassoLarsCV",
         "marker": {
          "color": "#636efa",
          "symbol": "circle"
         },
         "mode": "markers",
         "name": "LassoLarsCV",
         "scene": "scene",
         "showlegend": true,
         "type": "scatter3d",
         "x": [
          20,
          500,
          500,
          2000,
          2000,
          2000,
          20,
          500,
          500,
          2000,
          2000,
          2000,
          20,
          500,
          500,
          2000,
          2000,
          2000,
          20,
          500,
          500,
          2000,
          2000,
          2000
         ],
         "y": [
          20,
          20,
          500,
          20,
          500,
          2000,
          20,
          20,
          500,
          20,
          500,
          2000,
          20,
          20,
          500,
          20,
          500,
          2000,
          20,
          20,
          500,
          20,
          500,
          2000
         ],
         "z": [
          6.093188678999058e-7,
          5.823189989000513e-7,
          0.000025486914839799747,
          6.086771524001569e-7,
          0.000018717627525599752,
          0.0005031421969699003,
          1.5582373560007676e-7,
          1.6757567070004725e-7,
          0.000005968409711799936,
          1.7300849230019247e-7,
          0.000006100375801999965,
          0.00023858508605780013,
          1.4228350129997722e-7,
          1.5772175249997508e-7,
          0.000004497773899400301,
          7.439373269973668e-8,
          0.000006976172342600378,
          0.00027472986598460003,
          5.285710612005709e-7,
          4.7172509839987775e-7,
          0.00001889001843649943,
          4.5421266040013286e-7,
          0.000014826992331799967,
          0.00048067595330900017
         ]
        },
        {
         "hovertemplate": "name_model=LinearRegression<br>nb_samples=%{x}<br>nb_preds=%{y}<br>energy_consumed=%{z}<extra></extra>",
         "legendgroup": "LinearRegression",
         "marker": {
          "color": "#EF553B",
          "symbol": "circle"
         },
         "mode": "markers",
         "name": "LinearRegression",
         "scene": "scene",
         "showlegend": true,
         "type": "scatter3d",
         "x": [
          20,
          500,
          500,
          2000,
          2000,
          2000,
          20,
          500,
          500,
          2000,
          2000,
          2000,
          20,
          500,
          500,
          2000,
          2000,
          2000,
          20,
          500,
          500,
          2000,
          2000,
          2000
         ],
         "y": [
          20,
          20,
          500,
          20,
          500,
          2000,
          20,
          20,
          500,
          20,
          500,
          2000,
          20,
          20,
          500,
          20,
          500,
          2000,
          20,
          20,
          500,
          20,
          500,
          2000
         ],
         "z": [
          5.103777098000757e-7,
          3.9152677769977925e-7,
          0.0000019039889693002639,
          3.484048805998084e-7,
          0.0000029348105953000934,
          0.000027510729113299805,
          1.0224955569997779e-7,
          8.57300779997204e-8,
          2.301982068003e-7,
          9.683306459971897e-8,
          4.0760243410001284e-7,
          0.000006857285982399958,
          3.145337285999014e-7,
          6.793762469953224e-8,
          2.404618831006525e-7,
          4.478190300007123e-8,
          2.8140485309937485e-7,
          0.000006194343628800059,
          4.0353903040055844e-7,
          3.963129635992102e-7,
          0.0000019033673362006676,
          3.141113627995809e-7,
          0.000002920009456700186,
          0.000027224722416999657
         ]
        },
        {
         "hovertemplate": "name_model=LogisticRegression<br>nb_samples=%{x}<br>nb_preds=%{y}<br>energy_consumed=%{z}<extra></extra>",
         "legendgroup": "LogisticRegression",
         "marker": {
          "color": "#00cc96",
          "symbol": "circle"
         },
         "mode": "markers",
         "name": "LogisticRegression",
         "scene": "scene",
         "showlegend": true,
         "type": "scatter3d",
         "x": [
          20,
          500,
          500,
          2000,
          2000,
          2000,
          20,
          500,
          500,
          2000,
          2000,
          2000,
          20,
          500,
          500,
          2000,
          2000,
          2000,
          20,
          500,
          500,
          2000,
          2000,
          2000
         ],
         "y": [
          20,
          20,
          500,
          20,
          500,
          2000,
          20,
          20,
          500,
          20,
          500,
          2000,
          20,
          20,
          500,
          20,
          500,
          2000,
          20,
          20,
          500,
          20,
          500,
          2000
         ],
         "z": [
          3.378422940001659e-7,
          3.920450511001039e-7,
          5.732082644996361e-7,
          3.922707356002718e-7,
          4.275392000000801e-7,
          0.0000015512394902997967,
          9.749113780025201e-8,
          1.2996926249987661e-7,
          1.937761782001661e-7,
          6.971204619989069e-8,
          1.0139796009995053e-7,
          7.203026293998993e-7,
          3.749184481005932e-7,
          0.000002086456674199426,
          0.000012974756013799972,
          8.048538456999557e-7,
          0.0000038036383553999298,
          0.000011326994157000517,
          3.015061778004896e-7,
          3.059708901997568e-7,
          5.128093006996279e-7,
          3.736248875008119e-7,
          4.1985978069952745e-7,
          0.000001592788678100171
         ]
        },
        {
         "hovertemplate": "name_model=LogisticRegressionCV<br>nb_samples=%{x}<br>nb_preds=%{y}<br>energy_consumed=%{z}<extra></extra>",
         "legendgroup": "LogisticRegressionCV",
         "marker": {
          "color": "#ab63fa",
          "symbol": "circle"
         },
         "mode": "markers",
         "name": "LogisticRegressionCV",
         "scene": "scene",
         "showlegend": true,
         "type": "scatter3d",
         "x": [
          20,
          500,
          500,
          2000,
          2000,
          2000,
          20,
          500,
          500,
          2000,
          2000,
          2000,
          20,
          500,
          500,
          2000,
          2000,
          2000,
          20,
          500,
          500,
          2000,
          2000,
          2000
         ],
         "y": [
          20,
          20,
          500,
          20,
          500,
          2000,
          20,
          20,
          500,
          20,
          500,
          2000,
          20,
          20,
          500,
          20,
          500,
          2000,
          20,
          20,
          500,
          20,
          500,
          2000
         ],
         "z": [
          0.000001250895552200055,
          9.743626348999133e-7,
          0.0000030702605914000036,
          0.0000010958632171999792,
          0.000002513817560400016,
          0.000018953472875800088,
          3.161458417000329e-7,
          3.123709231001026e-7,
          9.174480732000896e-7,
          3.2818504919988195e-7,
          8.125908430001681e-7,
          0.000008881389521299844,
          0.000010128158060399711,
          0.00005693709143390034,
          0.00005684449569829959,
          0.0000015529772049004825,
          0.000030470157517099514,
          0.00005123710139690041,
          0.0000011235628040000278,
          8.718292692994414e-7,
          0.0000026816046034003685,
          0.0000011048283061997066,
          0.000002539672772900077,
          0.00001925569038300004
         ]
        },
        {
         "hovertemplate": "name_model=OrthogonalMatchingPursuit<br>nb_samples=%{x}<br>nb_preds=%{y}<br>energy_consumed=%{z}<extra></extra>",
         "legendgroup": "OrthogonalMatchingPursuit",
         "marker": {
          "color": "#FFA15A",
          "symbol": "circle"
         },
         "mode": "markers",
         "name": "OrthogonalMatchingPursuit",
         "scene": "scene",
         "showlegend": true,
         "type": "scatter3d",
         "x": [
          20,
          500,
          500,
          2000,
          2000,
          2000,
          20,
          500,
          500,
          2000,
          2000,
          2000,
          20,
          500,
          500,
          2000,
          2000,
          2000,
          20,
          500,
          500,
          2000,
          2000,
          2000
         ],
         "y": [
          20,
          20,
          500,
          20,
          500,
          2000,
          20,
          20,
          500,
          20,
          500,
          2000,
          20,
          20,
          500,
          20,
          500,
          2000,
          20,
          20,
          500,
          20,
          500,
          2000
         ],
         "z": [
          4.4584563979989736e-7,
          4.3252265169999374e-7,
          5.058544595001532e-7,
          3.991421948000909e-7,
          5.8846658209993e-7,
          0.000002945715181900104,
          6.601440670018013e-8,
          7.069213240002217e-8,
          9.891270119979922e-8,
          7.197688410001332e-8,
          1.4746603270009845e-7,
          0.0000013895005001999562,
          2.2646339999966847e-7,
          6.064898089991333e-8,
          2.482846185002108e-7,
          1.7481300920024756e-7,
          6.280764485999679e-7,
          0.0000037514057211994467,
          3.8446821310021e-7,
          3.74800264099813e-7,
          4.5394398890015453e-7,
          3.9022381250006927e-7,
          5.600746249998997e-7,
          0.0000027757791991002076
         ]
        },
        {
         "hovertemplate": "name_model=OrthogonalMatchingPursuitCV<br>nb_samples=%{x}<br>nb_preds=%{y}<br>energy_consumed=%{z}<extra></extra>",
         "legendgroup": "OrthogonalMatchingPursuitCV",
         "marker": {
          "color": "#19d3f3",
          "symbol": "circle"
         },
         "mode": "markers",
         "name": "OrthogonalMatchingPursuitCV",
         "scene": "scene",
         "showlegend": true,
         "type": "scatter3d",
         "x": [
          20,
          500,
          500,
          2000,
          2000,
          2000,
          20,
          500,
          500,
          2000,
          2000,
          2000,
          20,
          500,
          500,
          2000,
          2000,
          2000,
          20,
          500,
          500,
          2000,
          2000,
          2000
         ],
         "y": [
          20,
          20,
          500,
          20,
          500,
          2000,
          20,
          20,
          500,
          20,
          500,
          2000,
          20,
          20,
          500,
          20,
          500,
          2000,
          20,
          20,
          500,
          20,
          500,
          2000
         ],
         "z": [
          4.553976317997824e-7,
          4.571135280000832e-7,
          9.591431955999381e-7,
          4.7464283530005563e-7,
          0.0000020282563550000007,
          0.000013956211487200013,
          7.781622210012787e-8,
          8.973895009988658e-8,
          2.3581948690011914e-7,
          1.010097423997762e-7,
          5.226216109001022e-7,
          0.000005104151799700113,
          4.331479316003334e-7,
          8.664383609972154e-8,
          2.444140855999491e-7,
          1.2116710550007237e-7,
          9.210628898002199e-7,
          0.000004074666611800226,
          4.017012741001219e-7,
          3.687469451001124e-7,
          7.041694283999381e-7,
          4.414187270993311e-7,
          0.0000017458188203006708,
          0.000012739120804399796
         ]
        },
        {
         "hovertemplate": "name_model=PassiveAggressiveClassifier<br>nb_samples=%{x}<br>nb_preds=%{y}<br>energy_consumed=%{z}<extra></extra>",
         "legendgroup": "PassiveAggressiveClassifier",
         "marker": {
          "color": "#FF6692",
          "symbol": "circle"
         },
         "mode": "markers",
         "name": "PassiveAggressiveClassifier",
         "scene": "scene",
         "showlegend": true,
         "type": "scatter3d",
         "x": [
          20,
          500,
          500,
          2000,
          2000,
          2000,
          20,
          500,
          500,
          2000,
          2000,
          2000,
          20,
          500,
          500,
          2000,
          2000,
          2000,
          20,
          500,
          500,
          2000,
          2000,
          2000
         ],
         "y": [
          20,
          20,
          500,
          20,
          500,
          2000,
          20,
          20,
          500,
          20,
          500,
          2000,
          20,
          20,
          500,
          20,
          500,
          2000,
          20,
          20,
          500,
          20,
          500,
          2000
         ],
         "z": [
          3.831998118997322e-7,
          4.5366404260007223e-7,
          5.574105596001938e-7,
          3.234954772998039e-7,
          7.427181914999512e-7,
          0.0000031829693849000536,
          6.50050900998303e-8,
          5.372442739987049e-8,
          1.288367571000877e-7,
          5.16587720998489e-8,
          1.5367254040023898e-7,
          0.0000010191694218000466,
          1.3023473450016199e-7,
          5.5711398099823894e-8,
          1.3235404569978543e-7,
          4.8775360300158666e-8,
          2.1608430480005159e-7,
          0.0000012203619583995781,
          3.7116567979961906e-7,
          4.48381159499911e-7,
          5.598697122004975e-7,
          3.0727777180009075e-7,
          5.161472655000263e-7,
          0.0000032469299034000934
         ]
        },
        {
         "hovertemplate": "name_model=PassiveAggressiveRegressor<br>nb_samples=%{x}<br>nb_preds=%{y}<br>energy_consumed=%{z}<extra></extra>",
         "legendgroup": "PassiveAggressiveRegressor",
         "marker": {
          "color": "#B6E880",
          "symbol": "circle"
         },
         "mode": "markers",
         "name": "PassiveAggressiveRegressor",
         "scene": "scene",
         "showlegend": true,
         "type": "scatter3d",
         "x": [
          20,
          500,
          500,
          2000,
          2000,
          2000,
          20,
          500,
          500,
          2000,
          2000,
          2000,
          20,
          500,
          500,
          2000,
          2000,
          2000,
          20,
          500,
          500,
          2000,
          2000,
          2000
         ],
         "y": [
          20,
          20,
          500,
          20,
          500,
          2000,
          20,
          20,
          500,
          20,
          500,
          2000,
          20,
          20,
          500,
          20,
          500,
          2000,
          20,
          20,
          500,
          20,
          500,
          2000
         ],
         "z": [
          3.292337130999558e-7,
          3.386414170001434e-7,
          5.85843913299914e-7,
          3.247573540001575e-7,
          6.225681336000967e-7,
          0.000005122102420099944,
          5.1830966999680955e-8,
          4.9141041600069685e-8,
          2.0210918940007094e-7,
          5.258428779995189e-8,
          1.4473095869991723e-7,
          0.00000156480527269999,
          6.902782610004182e-8,
          4.414657569975361e-8,
          2.007221430004591e-7,
          1.7760198890021117e-7,
          1.3851647209968398e-7,
          0.0000015764948325999034,
          2.935338123000869e-7,
          2.905404118992705e-7,
          7.506004530005717e-7,
          3.095847067998911e-7,
          4.988073545996591e-7,
          0.000004677179487000589
         ]
        },
        {
         "hovertemplate": "name_model=Perceptron<br>nb_samples=%{x}<br>nb_preds=%{y}<br>energy_consumed=%{z}<extra></extra>",
         "legendgroup": "Perceptron",
         "marker": {
          "color": "#FF97FF",
          "symbol": "circle"
         },
         "mode": "markers",
         "name": "Perceptron",
         "scene": "scene",
         "showlegend": true,
         "type": "scatter3d",
         "x": [
          20,
          500,
          500,
          2000,
          2000,
          2000,
          20,
          500,
          500,
          2000,
          2000,
          2000,
          20,
          500,
          500,
          2000,
          2000,
          2000,
          20,
          500,
          500,
          2000,
          2000,
          2000
         ],
         "y": [
          20,
          20,
          500,
          20,
          500,
          2000,
          20,
          20,
          500,
          20,
          500,
          2000,
          20,
          20,
          500,
          20,
          500,
          2000,
          20,
          20,
          500,
          20,
          500,
          2000
         ],
         "z": [
          3.4193930309976694e-7,
          3.1535709680034427e-7,
          4.0327432549976464e-7,
          3.1781459910009205e-7,
          4.015302307999388e-7,
          0.0000015583930004000462,
          4.7696285500158087e-8,
          5.067545790025246e-8,
          7.960688799997506e-8,
          6.345029519979825e-8,
          7.912889389994487e-8,
          5.681959691001583e-7,
          8.01494151004764e-8,
          4.611489819953546e-8,
          1.9800577539998837e-7,
          1.9910474719983529e-7,
          1.5506312879987744e-7,
          4.4916390470016443e-7,
          2.939244700995991e-7,
          2.88786215800127e-7,
          3.49214714099981e-7,
          3.036916200998413e-7,
          3.660211560004706e-7,
          0.0000015078042887991736
         ]
        },
        {
         "hovertemplate": "name_model=PoissonRegressor<br>nb_samples=%{x}<br>nb_preds=%{y}<br>energy_consumed=%{z}<extra></extra>",
         "legendgroup": "PoissonRegressor",
         "marker": {
          "color": "#FECB52",
          "symbol": "circle"
         },
         "mode": "markers",
         "name": "PoissonRegressor",
         "scene": "scene",
         "showlegend": true,
         "type": "scatter3d",
         "x": [
          20,
          500,
          500,
          2000,
          2000,
          2000,
          20,
          500,
          500,
          2000,
          2000,
          2000,
          20,
          500,
          500,
          2000,
          2000,
          2000,
          20,
          500,
          500,
          2000,
          2000,
          2000
         ],
         "y": [
          20,
          20,
          500,
          20,
          500,
          2000,
          20,
          20,
          500,
          20,
          500,
          2000,
          20,
          20,
          500,
          20,
          500,
          2000,
          20,
          20,
          500,
          20,
          500,
          2000
         ],
         "z": [
          5.756624230999347e-7,
          6.773503470999982e-7,
          6.931614238998157e-7,
          6.543680569001675e-7,
          7.432398687000873e-7,
          9.224623429998115e-7,
          8.578151320000338e-8,
          1.356673926997641e-7,
          7.775341530000257e-8,
          6.986899960025397e-8,
          9.369433499970686e-8,
          1.6070513490003963e-7,
          7.688039429989274e-8,
          3.5171842700451594e-8,
          7.252690789952276e-8,
          4.7548657800162986e-8,
          6.166405560042304e-8,
          1.2186814900023296e-7,
          4.78915717600642e-7,
          6.359986671998497e-7,
          6.068234060995978e-7,
          5.791318166007212e-7,
          6.18541845799972e-7,
          8.445973031000545e-7
         ]
        },
        {
         "hovertemplate": "name_model=QuantileRegressor<br>nb_samples=%{x}<br>nb_preds=%{y}<br>energy_consumed=%{z}<extra></extra>",
         "legendgroup": "QuantileRegressor",
         "marker": {
          "color": "#636efa",
          "symbol": "circle"
         },
         "mode": "markers",
         "name": "QuantileRegressor",
         "scene": "scene",
         "showlegend": true,
         "type": "scatter3d",
         "x": [
          20,
          500,
          500,
          2000,
          2000,
          20,
          500,
          500,
          2000,
          2000,
          2000,
          20,
          500,
          500,
          2000,
          2000,
          2000,
          20,
          500,
          500,
          2000,
          2000,
          2000
         ],
         "y": [
          20,
          20,
          500,
          20,
          500,
          20,
          20,
          500,
          20,
          500,
          2000,
          20,
          20,
          500,
          20,
          500,
          2000,
          20,
          20,
          500,
          20,
          500,
          2000
         ],
         "z": [
          7.689198377003152e-7,
          0.00005730823506839991,
          0.00005980886647129983,
          0.0009184890378138,
          0.0009310436769553003,
          8.030405010015992e-8,
          0.0000019985583616997753,
          0.0000025612718448000255,
          0.00019385725161300037,
          0.00019959926044759964,
          0.00022616434063010013,
          1.277618075995815e-7,
          0.000002258422759899778,
          0.000002848186490400119,
          0.0002583658825918,
          0.00022429006751669995,
          0.00029936865546150056,
          6.393293425993943e-7,
          0.00005658889885370045,
          0.00005856710862669947,
          0.0008897304832008006,
          0.000901176263721699,
          0.0009709712248904007
         ]
        },
        {
         "hovertemplate": "name_model=Ridge<br>nb_samples=%{x}<br>nb_preds=%{y}<br>energy_consumed=%{z}<extra></extra>",
         "legendgroup": "Ridge",
         "marker": {
          "color": "#EF553B",
          "symbol": "circle"
         },
         "mode": "markers",
         "name": "Ridge",
         "scene": "scene",
         "showlegend": true,
         "type": "scatter3d",
         "x": [
          20,
          500,
          500,
          2000,
          2000,
          2000,
          20,
          500,
          500,
          2000,
          2000,
          2000,
          20,
          500,
          500,
          2000,
          2000,
          2000,
          20,
          500,
          500,
          2000,
          2000,
          2000
         ],
         "y": [
          20,
          20,
          500,
          20,
          500,
          2000,
          20,
          20,
          500,
          20,
          500,
          2000,
          20,
          20,
          500,
          20,
          500,
          2000,
          20,
          20,
          500,
          20,
          500,
          2000
         ],
         "z": [
          0.0003964424961095999,
          4.425833298000656e-7,
          6.331779390999701e-7,
          5.985310847994932e-7,
          8.135501208999044e-7,
          0.00000274893050600071,
          1.0861774229998719e-7,
          6.853730450014084e-8,
          1.3400846599976105e-7,
          7.925871680020471e-8,
          1.3234710829991211e-7,
          6.512341190001783e-7,
          2.937533427000219e-7,
          1.0198052519984346e-7,
          1.5786919039997155e-7,
          8.430567770018743e-8,
          1.286617494992287e-7,
          9.005505852005546e-7,
          4.094538397000219e-7,
          4.2356286870069704e-7,
          5.340430715983224e-7,
          4.1610940910118133e-7,
          5.318513818988041e-7,
          0.0000024132581455012236
         ]
        },
        {
         "hovertemplate": "name_model=RidgeCV<br>nb_samples=%{x}<br>nb_preds=%{y}<br>energy_consumed=%{z}<extra></extra>",
         "legendgroup": "RidgeCV",
         "marker": {
          "color": "#00cc96",
          "symbol": "circle"
         },
         "mode": "markers",
         "name": "RidgeCV",
         "scene": "scene",
         "showlegend": true,
         "type": "scatter3d",
         "x": [
          20,
          500,
          500,
          2000,
          2000,
          2000,
          20,
          500,
          500,
          2000,
          2000,
          2000,
          20,
          500,
          500,
          2000,
          2000,
          2000,
          20,
          500,
          500,
          2000,
          2000,
          2000
         ],
         "y": [
          20,
          20,
          500,
          20,
          500,
          2000,
          20,
          20,
          500,
          20,
          500,
          2000,
          20,
          20,
          500,
          20,
          500,
          2000,
          20,
          20,
          500,
          20,
          500,
          2000
         ],
         "z": [
          4.207429265996876e-7,
          4.925883849999507e-7,
          0.0000016161282251000997,
          6.51859003299865e-7,
          0.000004566868645600013,
          0.000018204707633399757,
          6.857739160001305e-8,
          8.15085689997129e-8,
          1.6972537850027183e-7,
          7.701619799977549e-8,
          4.165877344002554e-7,
          0.0000029028605441996404,
          9.049098650005388e-8,
          9.963881109943673e-8,
          1.6499169639989236e-7,
          9.151542393007889e-7,
          5.713827003995739e-7,
          0.000004462765040000316,
          3.595581144003046e-7,
          3.9554764479955706e-7,
          0.0000014245699203989381,
          4.2148383320138316e-7,
          0.000004190371658798625,
          0.000016074947941301446
         ]
        },
        {
         "hovertemplate": "name_model=RidgeClassifier<br>nb_samples=%{x}<br>nb_preds=%{y}<br>energy_consumed=%{z}<extra></extra>",
         "legendgroup": "RidgeClassifier",
         "marker": {
          "color": "#ab63fa",
          "symbol": "circle"
         },
         "mode": "markers",
         "name": "RidgeClassifier",
         "scene": "scene",
         "showlegend": true,
         "type": "scatter3d",
         "x": [
          20,
          500,
          500,
          2000,
          2000,
          2000,
          20,
          500,
          500,
          2000,
          2000,
          2000,
          20,
          500,
          500,
          2000,
          2000,
          2000,
          20,
          500,
          500,
          2000,
          2000,
          2000
         ],
         "y": [
          20,
          20,
          500,
          20,
          500,
          2000,
          20,
          20,
          500,
          20,
          500,
          2000,
          20,
          20,
          500,
          20,
          500,
          2000,
          20,
          20,
          500,
          20,
          500,
          2000
         ],
         "z": [
          5.919873121004379e-7,
          5.215379097001441e-7,
          5.898952711996808e-7,
          4.6495627920029037e-7,
          7.149347266994371e-7,
          0.000002762300657300175,
          6.392234040003553e-8,
          3.8294792200146976e-8,
          1.0457414509985538e-7,
          8.382825500028931e-8,
          1.3550362079964295e-7,
          8.469666468000243e-7,
          1.028583281994025e-7,
          3.9073996970038355e-7,
          0.0000011012419317999941,
          2.9281568559962057e-7,
          0.0000012719481656004589,
          0.000013616230621299984,
          4.293783047986527e-7,
          4.033278460015971e-7,
          4.9423390709874e-7,
          4.307358677999029e-7,
          7.023412413997149e-7,
          0.0000025621968582009713
         ]
        },
        {
         "hovertemplate": "name_model=RidgeClassifierCV<br>nb_samples=%{x}<br>nb_preds=%{y}<br>energy_consumed=%{z}<extra></extra>",
         "legendgroup": "RidgeClassifierCV",
         "marker": {
          "color": "#FFA15A",
          "symbol": "circle"
         },
         "mode": "markers",
         "name": "RidgeClassifierCV",
         "scene": "scene",
         "showlegend": true,
         "type": "scatter3d",
         "x": [
          20,
          500,
          500,
          2000,
          2000,
          2000,
          20,
          500,
          500,
          2000,
          2000,
          2000,
          20,
          500,
          500,
          2000,
          2000,
          2000,
          20,
          500,
          500,
          2000,
          2000,
          2000
         ],
         "y": [
          20,
          20,
          500,
          20,
          500,
          2000,
          20,
          20,
          500,
          20,
          500,
          2000,
          20,
          20,
          500,
          20,
          500,
          2000,
          20,
          20,
          500,
          20,
          500,
          2000
         ],
         "z": [
          3.9938270220054445e-7,
          4.77644087099223e-7,
          0.0000015657396242006738,
          5.696878795993787e-7,
          0.000004426611607300478,
          0.000017778185906599554,
          7.737027129996882e-8,
          7.590476880023345e-8,
          1.793663882000522e-7,
          8.456813849980899e-8,
          4.328647640002882e-7,
          0.0000032015214553996786,
          0.000001832906293199564,
          0.0000013103471959005283,
          0.000005906053542600008,
          5.481923741994243e-7,
          0.000004542974597900387,
          0.000019825858439299904,
          3.513585578006351e-7,
          3.949301198985511e-7,
          0.0000015788827276014272,
          5.17081721799692e-7,
          0.0000043389374370997325,
          0.000016081769144499214
         ]
        },
        {
         "hovertemplate": "name_model=SGDClassifier<br>nb_samples=%{x}<br>nb_preds=%{y}<br>energy_consumed=%{z}<extra></extra>",
         "legendgroup": "SGDClassifier",
         "marker": {
          "color": "#19d3f3",
          "symbol": "circle"
         },
         "mode": "markers",
         "name": "SGDClassifier",
         "scene": "scene",
         "showlegend": true,
         "type": "scatter3d",
         "x": [
          20,
          500,
          500,
          2000,
          2000,
          2000,
          20,
          500,
          500,
          2000,
          2000,
          2000,
          20,
          500,
          500,
          2000,
          2000,
          2000,
          20,
          500,
          500,
          2000,
          2000,
          2000
         ],
         "y": [
          20,
          20,
          500,
          20,
          500,
          2000,
          20,
          20,
          500,
          20,
          500,
          2000,
          20,
          20,
          500,
          20,
          500,
          2000,
          20,
          20,
          500,
          20,
          500,
          2000
         ],
         "z": [
          5.576608919002218e-7,
          5.509481392999144e-7,
          4.6892497390042115e-7,
          4.5798140379995494e-7,
          0.000002077469709399482,
          0.0000015544837938001252,
          6.785976660022425e-8,
          6.9489421800073e-8,
          8.113507869982745e-8,
          7.451797080001293e-8,
          6.811293380001512e-7,
          7.158233737000405e-7,
          1.9676931490002908e-7,
          5.8887391600134786e-8,
          1.77869549000155e-7,
          2.546570854996058e-7,
          0.000002985355354799893,
          0.000001781508534299918,
          3.927806730003036e-7,
          4.877734283009749e-7,
          4.377904902000407e-7,
          3.804790071997022e-7,
          0.0000021645510077990954,
          0.0000018846215242007691
         ]
        },
        {
         "hovertemplate": "name_model=SGDOneClassSVM<br>nb_samples=%{x}<br>nb_preds=%{y}<br>energy_consumed=%{z}<extra></extra>",
         "legendgroup": "SGDOneClassSVM",
         "marker": {
          "color": "#FF6692",
          "symbol": "circle"
         },
         "mode": "markers",
         "name": "SGDOneClassSVM",
         "scene": "scene",
         "showlegend": true,
         "type": "scatter3d",
         "x": [
          20,
          500,
          500,
          2000,
          2000,
          2000,
          20,
          500,
          500,
          2000,
          2000,
          2000,
          20,
          500,
          500,
          2000,
          2000,
          2000,
          20,
          500,
          500,
          2000,
          2000,
          2000
         ],
         "y": [
          20,
          20,
          500,
          20,
          500,
          2000,
          20,
          20,
          500,
          20,
          500,
          2000,
          20,
          20,
          500,
          20,
          500,
          2000,
          20,
          20,
          500,
          20,
          500,
          2000
         ],
         "z": [
          3.8442511659988327e-7,
          3.609270032003606e-7,
          4.5402308089959736e-7,
          3.853967800006644e-7,
          7.923442455993676e-7,
          0.0000027754773610005543,
          6.433288149984909e-8,
          5.4139215399824636e-8,
          1.0426989770001213e-7,
          5.381139980007235e-8,
          2.208121960998663e-7,
          8.29958448700114e-7,
          1.405752362007226e-7,
          4.3422575379988004e-7,
          1.3561438000006532e-7,
          6.245149180000159e-8,
          2.0823418710007313e-7,
          6.310704060994224e-7,
          3.1022569259991917e-7,
          3.164771699998986e-7,
          4.245107113991231e-7,
          3.2311856720118604e-7,
          6.959638890000758e-7,
          0.0000022362346658987703
         ]
        },
        {
         "hovertemplate": "name_model=SGDRegressor<br>nb_samples=%{x}<br>nb_preds=%{y}<br>energy_consumed=%{z}<extra></extra>",
         "legendgroup": "SGDRegressor",
         "marker": {
          "color": "#B6E880",
          "symbol": "circle"
         },
         "mode": "markers",
         "name": "SGDRegressor",
         "scene": "scene",
         "showlegend": true,
         "type": "scatter3d",
         "x": [
          20,
          500,
          500,
          2000,
          2000,
          2000,
          20,
          500,
          500,
          2000,
          2000,
          2000,
          20,
          500,
          500,
          2000,
          2000,
          2000,
          20,
          500,
          500,
          2000,
          2000,
          2000
         ],
         "y": [
          20,
          20,
          500,
          20,
          500,
          2000,
          20,
          20,
          500,
          20,
          500,
          2000,
          20,
          20,
          500,
          20,
          500,
          2000,
          20,
          20,
          500,
          20,
          500,
          2000
         ],
         "z": [
          3.657990394999311e-7,
          3.72082619999603e-7,
          4.3949521930011087e-7,
          3.743294956998558e-7,
          9.485580414999098e-7,
          8.033188481004414e-7,
          5.9520284800222006e-8,
          5.21111647999728e-8,
          9.76073313996989e-8,
          6.74041885999864e-8,
          2.2861907180002014e-7,
          2.5106449660005845e-7,
          7.97892327998248e-8,
          1.0767977099996467e-7,
          3.389772662001564e-7,
          1.6180650110053652e-7,
          0.000009615738962199735,
          0.0000018054183846998376,
          3.282285897000803e-7,
          3.157734332001616e-7,
          3.827029837009249e-7,
          3.112547616000716e-7,
          7.587456732991577e-7,
          7.672657475997491e-7
         ]
        },
        {
         "hovertemplate": "name_model=TheilSenRegressor<br>nb_samples=%{x}<br>nb_preds=%{y}<br>energy_consumed=%{z}<extra></extra>",
         "legendgroup": "TheilSenRegressor",
         "marker": {
          "color": "#FF97FF",
          "symbol": "circle"
         },
         "mode": "markers",
         "name": "TheilSenRegressor",
         "scene": "scene",
         "showlegend": true,
         "type": "scatter3d",
         "x": [
          20,
          20,
          500,
          500,
          2000,
          2000,
          2000,
          20,
          500,
          500,
          2000,
          2000,
          2000,
          20,
          500,
          500,
          2000
         ],
         "y": [
          20,
          20,
          20,
          500,
          20,
          500,
          2000,
          20,
          20,
          500,
          20,
          500,
          2000,
          20,
          20,
          500,
          20
         ],
         "z": [
          4.856773453002297e-7,
          6.835191530005572e-8,
          0.000001979110856000204,
          4.450899115998261e-7,
          0.000002465878556799899,
          0.0016745791560128002,
          0.000016032550205800217,
          6.125321957003646e-7,
          0.000006643424430299687,
          7.473269012002806e-7,
          0.0000042142977160000705,
          0.0029485073860806,
          0.00005131692924299942,
          3.211877483005887e-7,
          0.000012435181923899433,
          0.000003834087661800864,
          0.000014791104058499774
         ]
        },
        {
         "hovertemplate": "name_model=TweedieRegressor<br>nb_samples=%{x}<br>nb_preds=%{y}<br>energy_consumed=%{z}<extra></extra>",
         "legendgroup": "TweedieRegressor",
         "marker": {
          "color": "#FECB52",
          "symbol": "circle"
         },
         "mode": "markers",
         "name": "TweedieRegressor",
         "scene": "scene",
         "showlegend": true,
         "type": "scatter3d",
         "x": [
          20,
          500,
          500,
          2000,
          2000,
          2000,
          20,
          500,
          500,
          2000,
          2000,
          2000,
          20,
          500,
          500,
          2000,
          2000,
          2000,
          20,
          500,
          500,
          2000,
          2000,
          2000
         ],
         "y": [
          20,
          20,
          500,
          20,
          500,
          2000,
          20,
          20,
          500,
          20,
          500,
          2000,
          20,
          20,
          500,
          20,
          500,
          2000,
          20,
          20,
          500,
          20,
          500,
          2000
         ],
         "z": [
          0.000009512877110999865,
          6.927233762998863e-7,
          7.536507466996203e-7,
          7.481881352999417e-7,
          8.042503253005012e-7,
          0.000001013678261500145,
          1.0477041419935246e-7,
          9.70024308004705e-8,
          1.0359841249966972e-7,
          1.4028725600027242e-7,
          1.1286535750009569e-7,
          2.261337796998636e-7,
          0.00000244890638670045,
          0.000002793552484500056,
          0.000004276296703799656,
          0.0000037990260179001506,
          0.000004752767096900118,
          0.0000027765630116992346,
          0.0052608545228664,
          6.640951964002884e-7,
          6.692532236000914e-7,
          6.369508002996432e-7,
          6.886727026995249e-7,
          9.219917172006292e-7
         ]
        }
       ],
       "layout": {
        "legend": {
         "title": {
          "text": "name_model"
         },
         "tracegroupgap": 0
        },
        "margin": {
         "t": 60
        },
        "scene": {
         "domain": {
          "x": [
           0,
           1
          ],
          "y": [
           0,
           1
          ]
         },
         "xaxis": {
          "title": {
           "text": "nb_samples"
          }
         },
         "yaxis": {
          "title": {
           "text": "nb_preds"
          }
         },
         "zaxis": {
          "title": {
           "text": "energy_consumed"
          }
         }
        },
        "template": {
         "data": {
          "bar": [
           {
            "error_x": {
             "color": "#2a3f5f"
            },
            "error_y": {
             "color": "#2a3f5f"
            },
            "marker": {
             "line": {
              "color": "#E5ECF6",
              "width": 0.5
             },
             "pattern": {
              "fillmode": "overlay",
              "size": 10,
              "solidity": 0.2
             }
            },
            "type": "bar"
           }
          ],
          "barpolar": [
           {
            "marker": {
             "line": {
              "color": "#E5ECF6",
              "width": 0.5
             },
             "pattern": {
              "fillmode": "overlay",
              "size": 10,
              "solidity": 0.2
             }
            },
            "type": "barpolar"
           }
          ],
          "carpet": [
           {
            "aaxis": {
             "endlinecolor": "#2a3f5f",
             "gridcolor": "white",
             "linecolor": "white",
             "minorgridcolor": "white",
             "startlinecolor": "#2a3f5f"
            },
            "baxis": {
             "endlinecolor": "#2a3f5f",
             "gridcolor": "white",
             "linecolor": "white",
             "minorgridcolor": "white",
             "startlinecolor": "#2a3f5f"
            },
            "type": "carpet"
           }
          ],
          "choropleth": [
           {
            "colorbar": {
             "outlinewidth": 0,
             "ticks": ""
            },
            "type": "choropleth"
           }
          ],
          "contour": [
           {
            "colorbar": {
             "outlinewidth": 0,
             "ticks": ""
            },
            "colorscale": [
             [
              0,
              "#0d0887"
             ],
             [
              0.1111111111111111,
              "#46039f"
             ],
             [
              0.2222222222222222,
              "#7201a8"
             ],
             [
              0.3333333333333333,
              "#9c179e"
             ],
             [
              0.4444444444444444,
              "#bd3786"
             ],
             [
              0.5555555555555556,
              "#d8576b"
             ],
             [
              0.6666666666666666,
              "#ed7953"
             ],
             [
              0.7777777777777778,
              "#fb9f3a"
             ],
             [
              0.8888888888888888,
              "#fdca26"
             ],
             [
              1,
              "#f0f921"
             ]
            ],
            "type": "contour"
           }
          ],
          "contourcarpet": [
           {
            "colorbar": {
             "outlinewidth": 0,
             "ticks": ""
            },
            "type": "contourcarpet"
           }
          ],
          "heatmap": [
           {
            "colorbar": {
             "outlinewidth": 0,
             "ticks": ""
            },
            "colorscale": [
             [
              0,
              "#0d0887"
             ],
             [
              0.1111111111111111,
              "#46039f"
             ],
             [
              0.2222222222222222,
              "#7201a8"
             ],
             [
              0.3333333333333333,
              "#9c179e"
             ],
             [
              0.4444444444444444,
              "#bd3786"
             ],
             [
              0.5555555555555556,
              "#d8576b"
             ],
             [
              0.6666666666666666,
              "#ed7953"
             ],
             [
              0.7777777777777778,
              "#fb9f3a"
             ],
             [
              0.8888888888888888,
              "#fdca26"
             ],
             [
              1,
              "#f0f921"
             ]
            ],
            "type": "heatmap"
           }
          ],
          "heatmapgl": [
           {
            "colorbar": {
             "outlinewidth": 0,
             "ticks": ""
            },
            "colorscale": [
             [
              0,
              "#0d0887"
             ],
             [
              0.1111111111111111,
              "#46039f"
             ],
             [
              0.2222222222222222,
              "#7201a8"
             ],
             [
              0.3333333333333333,
              "#9c179e"
             ],
             [
              0.4444444444444444,
              "#bd3786"
             ],
             [
              0.5555555555555556,
              "#d8576b"
             ],
             [
              0.6666666666666666,
              "#ed7953"
             ],
             [
              0.7777777777777778,
              "#fb9f3a"
             ],
             [
              0.8888888888888888,
              "#fdca26"
             ],
             [
              1,
              "#f0f921"
             ]
            ],
            "type": "heatmapgl"
           }
          ],
          "histogram": [
           {
            "marker": {
             "pattern": {
              "fillmode": "overlay",
              "size": 10,
              "solidity": 0.2
             }
            },
            "type": "histogram"
           }
          ],
          "histogram2d": [
           {
            "colorbar": {
             "outlinewidth": 0,
             "ticks": ""
            },
            "colorscale": [
             [
              0,
              "#0d0887"
             ],
             [
              0.1111111111111111,
              "#46039f"
             ],
             [
              0.2222222222222222,
              "#7201a8"
             ],
             [
              0.3333333333333333,
              "#9c179e"
             ],
             [
              0.4444444444444444,
              "#bd3786"
             ],
             [
              0.5555555555555556,
              "#d8576b"
             ],
             [
              0.6666666666666666,
              "#ed7953"
             ],
             [
              0.7777777777777778,
              "#fb9f3a"
             ],
             [
              0.8888888888888888,
              "#fdca26"
             ],
             [
              1,
              "#f0f921"
             ]
            ],
            "type": "histogram2d"
           }
          ],
          "histogram2dcontour": [
           {
            "colorbar": {
             "outlinewidth": 0,
             "ticks": ""
            },
            "colorscale": [
             [
              0,
              "#0d0887"
             ],
             [
              0.1111111111111111,
              "#46039f"
             ],
             [
              0.2222222222222222,
              "#7201a8"
             ],
             [
              0.3333333333333333,
              "#9c179e"
             ],
             [
              0.4444444444444444,
              "#bd3786"
             ],
             [
              0.5555555555555556,
              "#d8576b"
             ],
             [
              0.6666666666666666,
              "#ed7953"
             ],
             [
              0.7777777777777778,
              "#fb9f3a"
             ],
             [
              0.8888888888888888,
              "#fdca26"
             ],
             [
              1,
              "#f0f921"
             ]
            ],
            "type": "histogram2dcontour"
           }
          ],
          "mesh3d": [
           {
            "colorbar": {
             "outlinewidth": 0,
             "ticks": ""
            },
            "type": "mesh3d"
           }
          ],
          "parcoords": [
           {
            "line": {
             "colorbar": {
              "outlinewidth": 0,
              "ticks": ""
             }
            },
            "type": "parcoords"
           }
          ],
          "pie": [
           {
            "automargin": true,
            "type": "pie"
           }
          ],
          "scatter": [
           {
            "fillpattern": {
             "fillmode": "overlay",
             "size": 10,
             "solidity": 0.2
            },
            "type": "scatter"
           }
          ],
          "scatter3d": [
           {
            "line": {
             "colorbar": {
              "outlinewidth": 0,
              "ticks": ""
             }
            },
            "marker": {
             "colorbar": {
              "outlinewidth": 0,
              "ticks": ""
             }
            },
            "type": "scatter3d"
           }
          ],
          "scattercarpet": [
           {
            "marker": {
             "colorbar": {
              "outlinewidth": 0,
              "ticks": ""
             }
            },
            "type": "scattercarpet"
           }
          ],
          "scattergeo": [
           {
            "marker": {
             "colorbar": {
              "outlinewidth": 0,
              "ticks": ""
             }
            },
            "type": "scattergeo"
           }
          ],
          "scattergl": [
           {
            "marker": {
             "colorbar": {
              "outlinewidth": 0,
              "ticks": ""
             }
            },
            "type": "scattergl"
           }
          ],
          "scattermapbox": [
           {
            "marker": {
             "colorbar": {
              "outlinewidth": 0,
              "ticks": ""
             }
            },
            "type": "scattermapbox"
           }
          ],
          "scatterpolar": [
           {
            "marker": {
             "colorbar": {
              "outlinewidth": 0,
              "ticks": ""
             }
            },
            "type": "scatterpolar"
           }
          ],
          "scatterpolargl": [
           {
            "marker": {
             "colorbar": {
              "outlinewidth": 0,
              "ticks": ""
             }
            },
            "type": "scatterpolargl"
           }
          ],
          "scatterternary": [
           {
            "marker": {
             "colorbar": {
              "outlinewidth": 0,
              "ticks": ""
             }
            },
            "type": "scatterternary"
           }
          ],
          "surface": [
           {
            "colorbar": {
             "outlinewidth": 0,
             "ticks": ""
            },
            "colorscale": [
             [
              0,
              "#0d0887"
             ],
             [
              0.1111111111111111,
              "#46039f"
             ],
             [
              0.2222222222222222,
              "#7201a8"
             ],
             [
              0.3333333333333333,
              "#9c179e"
             ],
             [
              0.4444444444444444,
              "#bd3786"
             ],
             [
              0.5555555555555556,
              "#d8576b"
             ],
             [
              0.6666666666666666,
              "#ed7953"
             ],
             [
              0.7777777777777778,
              "#fb9f3a"
             ],
             [
              0.8888888888888888,
              "#fdca26"
             ],
             [
              1,
              "#f0f921"
             ]
            ],
            "type": "surface"
           }
          ],
          "table": [
           {
            "cells": {
             "fill": {
              "color": "#EBF0F8"
             },
             "line": {
              "color": "white"
             }
            },
            "header": {
             "fill": {
              "color": "#C8D4E3"
             },
             "line": {
              "color": "white"
             }
            },
            "type": "table"
           }
          ]
         },
         "layout": {
          "annotationdefaults": {
           "arrowcolor": "#2a3f5f",
           "arrowhead": 0,
           "arrowwidth": 1
          },
          "autotypenumbers": "strict",
          "coloraxis": {
           "colorbar": {
            "outlinewidth": 0,
            "ticks": ""
           }
          },
          "colorscale": {
           "diverging": [
            [
             0,
             "#8e0152"
            ],
            [
             0.1,
             "#c51b7d"
            ],
            [
             0.2,
             "#de77ae"
            ],
            [
             0.3,
             "#f1b6da"
            ],
            [
             0.4,
             "#fde0ef"
            ],
            [
             0.5,
             "#f7f7f7"
            ],
            [
             0.6,
             "#e6f5d0"
            ],
            [
             0.7,
             "#b8e186"
            ],
            [
             0.8,
             "#7fbc41"
            ],
            [
             0.9,
             "#4d9221"
            ],
            [
             1,
             "#276419"
            ]
           ],
           "sequential": [
            [
             0,
             "#0d0887"
            ],
            [
             0.1111111111111111,
             "#46039f"
            ],
            [
             0.2222222222222222,
             "#7201a8"
            ],
            [
             0.3333333333333333,
             "#9c179e"
            ],
            [
             0.4444444444444444,
             "#bd3786"
            ],
            [
             0.5555555555555556,
             "#d8576b"
            ],
            [
             0.6666666666666666,
             "#ed7953"
            ],
            [
             0.7777777777777778,
             "#fb9f3a"
            ],
            [
             0.8888888888888888,
             "#fdca26"
            ],
            [
             1,
             "#f0f921"
            ]
           ],
           "sequentialminus": [
            [
             0,
             "#0d0887"
            ],
            [
             0.1111111111111111,
             "#46039f"
            ],
            [
             0.2222222222222222,
             "#7201a8"
            ],
            [
             0.3333333333333333,
             "#9c179e"
            ],
            [
             0.4444444444444444,
             "#bd3786"
            ],
            [
             0.5555555555555556,
             "#d8576b"
            ],
            [
             0.6666666666666666,
             "#ed7953"
            ],
            [
             0.7777777777777778,
             "#fb9f3a"
            ],
            [
             0.8888888888888888,
             "#fdca26"
            ],
            [
             1,
             "#f0f921"
            ]
           ]
          },
          "colorway": [
           "#636efa",
           "#EF553B",
           "#00cc96",
           "#ab63fa",
           "#FFA15A",
           "#19d3f3",
           "#FF6692",
           "#B6E880",
           "#FF97FF",
           "#FECB52"
          ],
          "font": {
           "color": "#2a3f5f"
          },
          "geo": {
           "bgcolor": "white",
           "lakecolor": "white",
           "landcolor": "#E5ECF6",
           "showlakes": true,
           "showland": true,
           "subunitcolor": "white"
          },
          "hoverlabel": {
           "align": "left"
          },
          "hovermode": "closest",
          "mapbox": {
           "style": "light"
          },
          "paper_bgcolor": "white",
          "plot_bgcolor": "#E5ECF6",
          "polar": {
           "angularaxis": {
            "gridcolor": "white",
            "linecolor": "white",
            "ticks": ""
           },
           "bgcolor": "#E5ECF6",
           "radialaxis": {
            "gridcolor": "white",
            "linecolor": "white",
            "ticks": ""
           }
          },
          "scene": {
           "xaxis": {
            "backgroundcolor": "#E5ECF6",
            "gridcolor": "white",
            "gridwidth": 2,
            "linecolor": "white",
            "showbackground": true,
            "ticks": "",
            "zerolinecolor": "white"
           },
           "yaxis": {
            "backgroundcolor": "#E5ECF6",
            "gridcolor": "white",
            "gridwidth": 2,
            "linecolor": "white",
            "showbackground": true,
            "ticks": "",
            "zerolinecolor": "white"
           },
           "zaxis": {
            "backgroundcolor": "#E5ECF6",
            "gridcolor": "white",
            "gridwidth": 2,
            "linecolor": "white",
            "showbackground": true,
            "ticks": "",
            "zerolinecolor": "white"
           }
          },
          "shapedefaults": {
           "line": {
            "color": "#2a3f5f"
           }
          },
          "ternary": {
           "aaxis": {
            "gridcolor": "white",
            "linecolor": "white",
            "ticks": ""
           },
           "baxis": {
            "gridcolor": "white",
            "linecolor": "white",
            "ticks": ""
           },
           "bgcolor": "#E5ECF6",
           "caxis": {
            "gridcolor": "white",
            "linecolor": "white",
            "ticks": ""
           }
          },
          "title": {
           "x": 0.05
          },
          "xaxis": {
           "automargin": true,
           "gridcolor": "white",
           "linecolor": "white",
           "ticks": "",
           "title": {
            "standoff": 15
           },
           "zerolinecolor": "white",
           "zerolinewidth": 2
          },
          "yaxis": {
           "automargin": true,
           "gridcolor": "white",
           "linecolor": "white",
           "ticks": "",
           "title": {
            "standoff": 15
           },
           "zerolinecolor": "white",
           "zerolinewidth": 2
          }
         }
        }
       }
      }
     },
     "metadata": {},
     "output_type": "display_data"
    }
   ],
   "source": [
    "fig = px.scatter_3d(full_data, x='nb_samples', y='nb_preds', z='energy_consumed',\n",
    "              color='name_model')\n",
    "fig.show()"
   ]
  },
  {
   "cell_type": "code",
   "execution_count": 23,
   "metadata": {},
   "outputs": [
    {
     "data": {
      "image/png": "[encoded data removed]",
      "text/plain": [
       "<Figure size 720x720 with 1 Axes>"
      ]
     },
     "metadata": {
      "needs_background": "light"
     },
     "output_type": "display_data"
    }
   ],
   "source": [
    "plt.figure(figsize=(10,10))\n",
    "sns.barplot(data=full_data, x = \"name_model\", y=\"energy_consumed\")\n",
    "plt.xticks(rotation = 45)\n",
    "plt.title(\"Energy consumed [kWh] in fucntion of number of ML models\")\n",
    "plt.tight_layout()\n",
    "plt.savefig(join(\"data\", \"img\", \"5.png\"), dpi=200)"
   ]
  }
 ],
 "metadata": {
  "kernelspec": {
   "display_name": "Python 3.8.13 ('base')",
   "language": "python",
   "name": "python3"
  },
  "language_info": {
   "codemirror_mode": {
    "name": "ipython",
    "version": 3
   },
   "file_extension": ".py",
   "mimetype": "text/x-python",
   "name": "python",
   "nbconvert_exporter": "python",
   "pygments_lexer": "ipython3",
   "version": "3.8.13"
  },
  "orig_nbformat": 4,
  "vscode": {
   "interpreter": {
    "hash": "6e8bd448dc932e4d186e894d045358f83e7fab8ca8948cbea594b20f28a1be96"
   }
  }
 },
 "nbformat": 4,
 "nbformat_minor": 2
}

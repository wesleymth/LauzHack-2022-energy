{
 "cells": [
  {
   "cell_type": "code",
   "execution_count": 1,
   "metadata": {},
   "outputs": [
    {
     "name": "stdout",
     "output_type": "stream",
     "text": [
      "\n",
      "Welcome to CodeCarbon, here is your experiment id:\n",
      "\u001b[92md726f5c0-b436-4a78-9fce-a904b136598c\u001b[0m (from \u001b[94m./.codecarbon.config\u001b[0m)\n",
      "\n"
     ]
    }
   ],
   "source": [
    "! codecarbon init"
   ]
  },
  {
   "cell_type": "code",
   "execution_count": 2,
   "metadata": {},
   "outputs": [
    {
     "name": "stderr",
     "output_type": "stream",
     "text": [
      "[codecarbon INFO @ 18:17:53] [setup] RAM Tracking...\n",
      "[codecarbon INFO @ 18:17:53] [setup] GPU Tracking...\n",
      "[codecarbon INFO @ 18:17:53] No GPU found.\n",
      "[codecarbon INFO @ 18:17:53] [setup] CPU Tracking...\n",
      "[codecarbon INFO @ 18:17:53] Tracking Intel CPU via Power Gadget\n",
      "[codecarbon INFO @ 18:17:55] >>> Tracker's metadata:\n",
      "[codecarbon INFO @ 18:17:55]   Platform system: macOS-12.5.1-x86_64-i386-64bit\n",
      "[codecarbon INFO @ 18:17:55]   Python version: 3.9.15\n",
      "[codecarbon INFO @ 18:17:55]   Available RAM : 8.000 GB\n",
      "[codecarbon INFO @ 18:17:55]   CPU count: 4\n",
      "[codecarbon INFO @ 18:17:55]   CPU model: Intel(R) Core(TM) i5-6267U CPU @ 2.90GHz\n",
      "[codecarbon INFO @ 18:17:55]   GPU count: None\n",
      "[codecarbon INFO @ 18:17:55]   GPU model: None\n",
      "[codecarbon INFO @ 18:17:58] Energy consumed for RAM : 0.000000 kWh. RAM Power : 3.0 W\n"
     ]
    },
    {
     "name": "stdout",
     "output_type": "stream",
     "text": [
      "100000\n"
     ]
    },
    {
     "name": "stderr",
     "output_type": "stream",
     "text": [
      "[codecarbon INFO @ 18:18:00] Energy consumed for all CPUs : 0.000000 kWh. All CPUs Power : 9.557916666666669 W\n",
      "[codecarbon INFO @ 18:18:01] 0.000000 kWh of electricity used since the begining.\n"
     ]
    },
    {
     "data": {
      "text/plain": [
       "1.7190018827533605e-09"
      ]
     },
     "execution_count": 2,
     "metadata": {},
     "output_type": "execute_result"
    }
   ],
   "source": [
    "from codecarbon import EmissionsTracker\n",
    "tracker = EmissionsTracker()\n",
    "tracker.start()\n",
    "k = 0\n",
    "for i in range(100000) : \n",
    "    k+=1\n",
    "print(k)\n",
    "tracker.stop()"
   ]
  },
  {
   "cell_type": "code",
   "execution_count": null,
   "metadata": {},
   "outputs": [],
   "source": []
  }
 ],
 "metadata": {
  "kernelspec": {
   "display_name": "Python 3.9.15 ('lauzhack')",
   "language": "python",
   "name": "python3"
  },
  "language_info": {
   "codemirror_mode": {
    "name": "ipython",
    "version": 3
   },
   "file_extension": ".py",
   "mimetype": "text/x-python",
   "name": "python",
   "nbconvert_exporter": "python",
   "pygments_lexer": "ipython3",
   "version": "3.9.15"
  },
  "orig_nbformat": 4,
  "vscode": {
   "interpreter": {
    "hash": "c8af34b48f9309cfc0ad5c75488b7486daa892f05147674061377b8472f53449"
   }
  }
 },
 "nbformat": 4,
 "nbformat_minor": 2
}
